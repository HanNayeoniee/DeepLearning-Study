{
 "cells": [
  {
   "cell_type": "code",
   "execution_count": null,
   "metadata": {},
   "outputs": [],
   "source": []
  },
  {
   "cell_type": "markdown",
   "metadata": {},
   "source": [
    "## 1. Settings"
   ]
  },
  {
   "cell_type": "markdown",
   "metadata": {},
   "source": [
    "### 1) Import libraries"
   ]
  },
  {
   "cell_type": "code",
   "execution_count": 1,
   "metadata": {},
   "outputs": [],
   "source": [
    "import os\n",
    "import numpy as np\n",
    "import torch\n",
    "import torch.nn as nn\n",
    "import torch.optim as optim\n",
    "import torch.nn.init as init\n",
    "import torch.utils.data as data\n",
    "import torchvision.datasets as dset\n",
    "import torchvision.models as models\n",
    "import torchvision.transforms as transforms\n",
    "from torch.utils.data import DataLoader\n",
    "from torch.autograd import Variable\n",
    "import time\n",
    "import matplotlib.pyplot as plt\n",
    "import utils_course"
   ]
  },
  {
   "cell_type": "markdown",
   "metadata": {},
   "source": [
    "### 2) Hyperparameter"
   ]
  },
  {
   "cell_type": "code",
   "execution_count": 2,
   "metadata": {},
   "outputs": [],
   "source": [
    "batch_size=16\n",
    "learning_rate=0.0001\n",
    "epoch=20\n",
    "\n",
    "n_node=124\n",
    "dropratio=0.5\n",
    "\n",
    "imgsize=256"
   ]
  },
  {
   "cell_type": "markdown",
   "metadata": {},
   "source": [
    "## 2. Data Loader"
   ]
  },
  {
   "cell_type": "code",
   "execution_count": 3,
   "metadata": {},
   "outputs": [
    {
     "name": "stdout",
     "output_type": "stream",
     "text": [
      "# of classes: 2\n",
      "['cats', 'dogs']\n",
      "{'cats': 0, 'dogs': 1}\n",
      "\n",
      "train data 개수:  46\n",
      "dev data 개수:  17\n",
      "test data 개수:  41\n"
     ]
    }
   ],
   "source": [
    "# train set\n",
    "\n",
    "proj_dir='C:/Users/PRLAB/Desktop/nayeon/DL_course'\n",
    "train='animal_dataset/train'\n",
    "dev='animal_dataset/val'\n",
    "test='animal_dataset/test'\n",
    "\n",
    "train_data=dset.ImageFolder(os.path.join(proj_dir, train), transforms.Compose([\n",
    "    transforms.CenterCrop(imgsize*2),\n",
    "    transforms.RandomCrop(imgsize),\n",
    "    transforms.RandomHorizontalFlip(),\n",
    "    \n",
    "    transforms.Resize(imgsize),\n",
    "    transforms.ToTensor()\n",
    "]))\n",
    "\n",
    "# dev data는 data augmentation하지 않음\n",
    "dev_data=dset.ImageFolder(os.path.join(proj_dir, dev), transforms.Compose([\n",
    "    transforms.CenterCrop(size=imgsize),\n",
    "    transforms.Resize(imgsize),\n",
    "    transforms.ToTensor()\n",
    "]))\n",
    "\n",
    "test_data=dset.ImageFolder(os.path.join(proj_dir, test), transforms.Compose([\n",
    "    transforms.CenterCrop(size=imgsize),\n",
    "    transforms.Resize(imgsize),\n",
    "    transforms.ToTensor()\n",
    "]))\n",
    "\n",
    "\n",
    "train_batch=data.DataLoader(train_data, batch_size=batch_size,\n",
    "                           shuffle=True, num_workers=2)\n",
    "dev_batch=data.DataLoader(dev_data, batch_size=batch_size,\n",
    "                           shuffle=False, num_workers=2)\n",
    "test_batch=data.DataLoader(test_data, batch_size=batch_size,\n",
    "                           shuffle=False, num_workers=2)\n",
    "\n",
    "nclass=len(train_data.classes)\n",
    "print(\"# of classes: %d\" %nclass)\n",
    "print(train_data.classes)\n",
    "print(train_data.class_to_idx)\n",
    "# print(dev_data.classes)\n",
    "# print(test_data.classes)\n",
    "\n",
    "print(\"\\ntrain data 개수: \", train_data.__len__())\n",
    "print(\"dev data 개수: \", dev_data.__len__())\n",
    "print(\"test data 개수: \",test_data.__len__())"
   ]
  },
  {
   "cell_type": "markdown",
   "metadata": {},
   "source": [
    "## 3. Model"
   ]
  },
  {
   "cell_type": "markdown",
   "metadata": {},
   "source": [
    "## 1) Pretrained VGG Model"
   ]
  },
  {
   "cell_type": "code",
   "execution_count": 4,
   "metadata": {},
   "outputs": [
    {
     "name": "stdout",
     "output_type": "stream",
     "text": [
      "features\n",
      "avgpool\n",
      "classifier\n",
      "Sequential(\n",
      "  (0): Conv2d(3, 64, kernel_size=(3, 3), stride=(1, 1), padding=(1, 1))\n",
      "  (1): ReLU(inplace=True)\n",
      "  (2): Conv2d(64, 64, kernel_size=(3, 3), stride=(1, 1), padding=(1, 1))\n",
      "  (3): ReLU(inplace=True)\n",
      "  (4): MaxPool2d(kernel_size=2, stride=2, padding=0, dilation=1, ceil_mode=False)\n",
      "  (5): Conv2d(64, 128, kernel_size=(3, 3), stride=(1, 1), padding=(1, 1))\n",
      "  (6): ReLU(inplace=True)\n",
      "  (7): Conv2d(128, 128, kernel_size=(3, 3), stride=(1, 1), padding=(1, 1))\n",
      "  (8): ReLU(inplace=True)\n",
      "  (9): MaxPool2d(kernel_size=2, stride=2, padding=0, dilation=1, ceil_mode=False)\n",
      "  (10): Conv2d(128, 256, kernel_size=(3, 3), stride=(1, 1), padding=(1, 1))\n",
      "  (11): ReLU(inplace=True)\n",
      "  (12): Conv2d(256, 256, kernel_size=(3, 3), stride=(1, 1), padding=(1, 1))\n",
      "  (13): ReLU(inplace=True)\n",
      "  (14): Conv2d(256, 256, kernel_size=(3, 3), stride=(1, 1), padding=(1, 1))\n",
      "  (15): ReLU(inplace=True)\n",
      "  (16): Conv2d(256, 256, kernel_size=(3, 3), stride=(1, 1), padding=(1, 1))\n",
      "  (17): ReLU(inplace=True)\n",
      "  (18): MaxPool2d(kernel_size=2, stride=2, padding=0, dilation=1, ceil_mode=False)\n",
      "  (19): Conv2d(256, 512, kernel_size=(3, 3), stride=(1, 1), padding=(1, 1))\n",
      "  (20): ReLU(inplace=True)\n",
      "  (21): Conv2d(512, 512, kernel_size=(3, 3), stride=(1, 1), padding=(1, 1))\n",
      "  (22): ReLU(inplace=True)\n",
      "  (23): Conv2d(512, 512, kernel_size=(3, 3), stride=(1, 1), padding=(1, 1))\n",
      "  (24): ReLU(inplace=True)\n",
      "  (25): Conv2d(512, 512, kernel_size=(3, 3), stride=(1, 1), padding=(1, 1))\n",
      "  (26): ReLU(inplace=True)\n",
      "  (27): MaxPool2d(kernel_size=2, stride=2, padding=0, dilation=1, ceil_mode=False)\n",
      "  (28): Conv2d(512, 512, kernel_size=(3, 3), stride=(1, 1), padding=(1, 1))\n",
      "  (29): ReLU(inplace=True)\n",
      "  (30): Conv2d(512, 512, kernel_size=(3, 3), stride=(1, 1), padding=(1, 1))\n",
      "  (31): ReLU(inplace=True)\n",
      "  (32): Conv2d(512, 512, kernel_size=(3, 3), stride=(1, 1), padding=(1, 1))\n",
      "  (33): ReLU(inplace=True)\n",
      "  (34): Conv2d(512, 512, kernel_size=(3, 3), stride=(1, 1), padding=(1, 1))\n",
      "  (35): ReLU(inplace=True)\n",
      "  (36): MaxPool2d(kernel_size=2, stride=2, padding=0, dilation=1, ceil_mode=False)\n",
      ")\n",
      "Sequential(\n",
      "  (0): Linear(in_features=25088, out_features=4096, bias=True)\n",
      "  (1): ReLU(inplace=True)\n",
      "  (2): Dropout(p=0.5, inplace=False)\n",
      "  (3): Linear(in_features=4096, out_features=4096, bias=True)\n",
      "  (4): ReLU(inplace=True)\n",
      "  (5): Dropout(p=0.5, inplace=False)\n",
      "  (6): Linear(in_features=4096, out_features=1000, bias=True)\n",
      ")\n"
     ]
    }
   ],
   "source": [
    "vgg19=models.vgg19(pretrained=True)\n",
    "\n",
    "for name, module in vgg19.named_children():\n",
    "    print(name)\n",
    "\n",
    "print(list(vgg19.children())[0])\n",
    "print(list(vgg19.children())[-1])  # FC layer를 말함"
   ]
  },
  {
   "cell_type": "code",
   "execution_count": 5,
   "metadata": {},
   "outputs": [
    {
     "name": "stdout",
     "output_type": "stream",
     "text": [
      "Sequential(\n",
      "  (0): Linear(in_features=25088, out_features=4096, bias=True)\n",
      "  (1): ReLU(inplace=True)\n",
      "  (2): Dropout(p=0.5, inplace=False)\n",
      "  (3): Linear(in_features=4096, out_features=4096, bias=True)\n",
      "  (4): ReLU(inplace=True)\n",
      "  (5): Dropout(p=0.5, inplace=False)\n",
      "  (6): Linear(in_features=4096, out_features=1000, bias=True)\n",
      ")\n"
     ]
    }
   ],
   "source": [
    "print(list(vgg19.children())[-1])"
   ]
  },
  {
   "cell_type": "markdown",
   "metadata": {},
   "source": [
    "## 2) Customized Fully Model"
   ]
  },
  {
   "cell_type": "code",
   "execution_count": 6,
   "metadata": {},
   "outputs": [],
   "source": [
    "base_dim=64\n",
    "fsize=int(imgsize/32)\n",
    "\n",
    "class MyVGG(nn.Module):\n",
    "    def __init__(self):\n",
    "        super(MyVGG, self).__init__()\n",
    "        self.layer0=nn.Sequential(*list(vgg19.children())[0])  # 앞부분만 사용\n",
    "        \n",
    "        # 뒷부분 FC layer는 만들어서 쓸거얌\n",
    "        self.layer1=nn.Sequential(\n",
    "            nn.Linear(8*base_dim*fsize*fsize, n_node),\n",
    "            nn.BatchNorm1d(n_node),\n",
    "            nn.ReLU(),\n",
    "            nn.Dropout2d(dropratio),\n",
    "            \n",
    "            nn.Linear(n_node, n_node),\n",
    "            nn.BatchNorm1d(n_node),\n",
    "            nn.ReLU(),\n",
    "            nn.Dropout2d(dropratio),\n",
    "            \n",
    "            nn.Linear(n_node, n_node),\n",
    "            nn.BatchNorm1d(n_node),\n",
    "            nn.ReLU(),\n",
    "            nn.Dropout2d(dropratio),\n",
    "            \n",
    "            nn.Linear(n_node, nclass)           \n",
    "        )\n",
    "        \n",
    "        # weight initialization\n",
    "        for m in self.layer1.modules():\n",
    "            if isinstance(m, nn.Conv2d):\n",
    "                init.kaiming_normal(m.weight.data)\n",
    "                m.bias.data.fill_(0)\n",
    "            if isinstance(m, nn.Linear):\n",
    "                init.kaiming_normal(m.weight.data)\n",
    "                m.bias.data.fill_(0)\n",
    "    \n",
    "    def forward(self, x): \n",
    "        out=self.layer0(x)\n",
    "        out=out.view(out.size(0), -1)\n",
    "        out=self.layer1(out)\n",
    "        return out"
   ]
  },
  {
   "cell_type": "markdown",
   "metadata": {},
   "source": [
    "## 3) Model on GPU"
   ]
  },
  {
   "cell_type": "code",
   "execution_count": 7,
   "metadata": {},
   "outputs": [
    {
     "name": "stderr",
     "output_type": "stream",
     "text": [
      "C:\\Users\\PRLAB\\.conda\\envs\\torch_hny\\lib\\site-packages\\ipykernel_launcher.py:35: UserWarning: nn.init.kaiming_normal is now deprecated in favor of nn.init.kaiming_normal_.\n"
     ]
    }
   ],
   "source": [
    "model=MyVGG().cuda()\n",
    "\n",
    "for params in model.layer0.parameters():\n",
    "    params.required_grad=False\n",
    "    \n",
    "for params in model.layer1.parameters():\n",
    "    params.required_grad=True\n"
   ]
  },
  {
   "cell_type": "code",
   "execution_count": 8,
   "metadata": {},
   "outputs": [
    {
     "name": "stdout",
     "output_type": "stream",
     "text": [
      "Sequential(\n",
      "  (0): Conv2d(3, 64, kernel_size=(3, 3), stride=(1, 1), padding=(1, 1))\n",
      "  (1): ReLU(inplace=True)\n",
      "  (2): Conv2d(64, 64, kernel_size=(3, 3), stride=(1, 1), padding=(1, 1))\n",
      "  (3): ReLU(inplace=True)\n",
      "  (4): MaxPool2d(kernel_size=2, stride=2, padding=0, dilation=1, ceil_mode=False)\n",
      "  (5): Conv2d(64, 128, kernel_size=(3, 3), stride=(1, 1), padding=(1, 1))\n",
      "  (6): ReLU(inplace=True)\n",
      "  (7): Conv2d(128, 128, kernel_size=(3, 3), stride=(1, 1), padding=(1, 1))\n",
      "  (8): ReLU(inplace=True)\n",
      "  (9): MaxPool2d(kernel_size=2, stride=2, padding=0, dilation=1, ceil_mode=False)\n",
      "  (10): Conv2d(128, 256, kernel_size=(3, 3), stride=(1, 1), padding=(1, 1))\n",
      "  (11): ReLU(inplace=True)\n",
      "  (12): Conv2d(256, 256, kernel_size=(3, 3), stride=(1, 1), padding=(1, 1))\n",
      "  (13): ReLU(inplace=True)\n",
      "  (14): Conv2d(256, 256, kernel_size=(3, 3), stride=(1, 1), padding=(1, 1))\n",
      "  (15): ReLU(inplace=True)\n",
      "  (16): Conv2d(256, 256, kernel_size=(3, 3), stride=(1, 1), padding=(1, 1))\n",
      "  (17): ReLU(inplace=True)\n",
      "  (18): MaxPool2d(kernel_size=2, stride=2, padding=0, dilation=1, ceil_mode=False)\n",
      "  (19): Conv2d(256, 512, kernel_size=(3, 3), stride=(1, 1), padding=(1, 1))\n",
      "  (20): ReLU(inplace=True)\n",
      "  (21): Conv2d(512, 512, kernel_size=(3, 3), stride=(1, 1), padding=(1, 1))\n",
      "  (22): ReLU(inplace=True)\n",
      "  (23): Conv2d(512, 512, kernel_size=(3, 3), stride=(1, 1), padding=(1, 1))\n",
      "  (24): ReLU(inplace=True)\n",
      "  (25): Conv2d(512, 512, kernel_size=(3, 3), stride=(1, 1), padding=(1, 1))\n",
      "  (26): ReLU(inplace=True)\n",
      "  (27): MaxPool2d(kernel_size=2, stride=2, padding=0, dilation=1, ceil_mode=False)\n",
      "  (28): Conv2d(512, 512, kernel_size=(3, 3), stride=(1, 1), padding=(1, 1))\n",
      "  (29): ReLU(inplace=True)\n",
      "  (30): Conv2d(512, 512, kernel_size=(3, 3), stride=(1, 1), padding=(1, 1))\n",
      "  (31): ReLU(inplace=True)\n",
      "  (32): Conv2d(512, 512, kernel_size=(3, 3), stride=(1, 1), padding=(1, 1))\n",
      "  (33): ReLU(inplace=True)\n",
      "  (34): Conv2d(512, 512, kernel_size=(3, 3), stride=(1, 1), padding=(1, 1))\n",
      "  (35): ReLU(inplace=True)\n",
      "  (36): MaxPool2d(kernel_size=2, stride=2, padding=0, dilation=1, ceil_mode=False)\n",
      ")\n",
      "Sequential(\n",
      "  (0): Linear(in_features=32768, out_features=124, bias=True)\n",
      "  (1): BatchNorm1d(124, eps=1e-05, momentum=0.1, affine=True, track_running_stats=True)\n",
      "  (2): ReLU()\n",
      "  (3): Dropout2d(p=0.5, inplace=False)\n",
      "  (4): Linear(in_features=124, out_features=124, bias=True)\n",
      "  (5): BatchNorm1d(124, eps=1e-05, momentum=0.1, affine=True, track_running_stats=True)\n",
      "  (6): ReLU()\n",
      "  (7): Dropout2d(p=0.5, inplace=False)\n",
      "  (8): Linear(in_features=124, out_features=124, bias=True)\n",
      "  (9): BatchNorm1d(124, eps=1e-05, momentum=0.1, affine=True, track_running_stats=True)\n",
      "  (10): ReLU()\n",
      "  (11): Dropout2d(p=0.5, inplace=False)\n",
      "  (12): Linear(in_features=124, out_features=2, bias=True)\n",
      ")\n"
     ]
    }
   ],
   "source": [
    "for name in model.children():\n",
    "    print(name)"
   ]
  },
  {
   "cell_type": "markdown",
   "metadata": {},
   "source": [
    "## 4. Optimizer & Loss"
   ]
  },
  {
   "cell_type": "code",
   "execution_count": 9,
   "metadata": {},
   "outputs": [],
   "source": [
    "import itertools\n",
    "\n",
    "loss_func=nn.CrossEntropyLoss()\n",
    "# optimizer=optim.Adam(model.layer1.parameters(), lr=learning_rate)\n",
    "\n",
    "# optimizer=optim.Adam(itertools.chain(model.layer1.parameters(), model.layer2.parameters()), lr=learning_rate)\n",
    "optimizer=optim.Adam(itertools.chain(model.layer0.parameters(), model.layer1.parameters()), lr=learning_rate)"
   ]
  },
  {
   "cell_type": "markdown",
   "metadata": {},
   "source": [
    "## 5. Train"
   ]
  },
  {
   "cell_type": "code",
   "execution_count": 57,
   "metadata": {},
   "outputs": [
    {
     "ename": "ModuleNotFoundError",
     "evalue": "No module named 'sklearn'",
     "output_type": "error",
     "traceback": [
      "\u001b[1;31m---------------------------------------------------------------------------\u001b[0m",
      "\u001b[1;31mModuleNotFoundError\u001b[0m                       Traceback (most recent call last)",
      "\u001b[1;32m~\\Desktop\\nayeon\\DL_course\\utils_course.py\u001b[0m in \u001b[0;36m<module>\u001b[1;34m\u001b[0m\n\u001b[0;32m    807\u001b[0m \u001b[1;31m# ================================================================\u001b[0m\u001b[1;33m\u001b[0m\u001b[1;33m\u001b[0m\u001b[1;33m\u001b[0m\u001b[0m\n\u001b[0;32m    808\u001b[0m \u001b[1;32mimport\u001b[0m \u001b[0mmatplotlib\u001b[0m\u001b[1;33m.\u001b[0m\u001b[0mpyplot\u001b[0m \u001b[1;32mas\u001b[0m \u001b[0mplt\u001b[0m\u001b[1;33m\u001b[0m\u001b[1;33m\u001b[0m\u001b[0m\n\u001b[1;32m--> 809\u001b[1;33m \u001b[1;32mfrom\u001b[0m \u001b[0msklearn\u001b[0m\u001b[1;33m.\u001b[0m\u001b[0mmetrics\u001b[0m \u001b[1;32mimport\u001b[0m \u001b[0mconfusion_matrix\u001b[0m\u001b[1;33m\u001b[0m\u001b[1;33m\u001b[0m\u001b[0m\n\u001b[0m\u001b[0;32m    810\u001b[0m \u001b[1;32mimport\u001b[0m \u001b[0mitertools\u001b[0m\u001b[1;33m\u001b[0m\u001b[1;33m\u001b[0m\u001b[0m\n\u001b[0;32m    811\u001b[0m \u001b[1;31m# * 호출 방법\u001b[0m\u001b[1;33m\u001b[0m\u001b[1;33m\u001b[0m\u001b[1;33m\u001b[0m\u001b[0m\n",
      "\u001b[1;31mModuleNotFoundError\u001b[0m: No module named 'sklearn'"
     ]
    }
   ],
   "source": [
    "%run utils_course.py"
   ]
  },
  {
   "cell_type": "code",
   "execution_count": 58,
   "metadata": {},
   "outputs": [],
   "source": [
    "def ComputeCorr(i_data_batch, i_model):  \n",
    "    correct = 0\n",
    "    total = 0\n",
    "    for img, label in i_data_batch:\n",
    "        torch.no_grad()\n",
    "        #img = Variable(imgs, volatile=True).cuda()\n",
    "        img = Variable(img).cuda()  # back prop. 안하고, forward prop. 만 하겠다.\n",
    "        label = Variable(label).cuda()\n",
    "        \n",
    "        output = i_model(img)\n",
    "        _, output_index = torch.max(output, 1)\n",
    "        \n",
    "        total += label.size(0)\n",
    "        correct += (output_index == label).sum().float()\n",
    "    tmp = 100*correct/total\n",
    "    tmp = (tmp.cpu()).data.numpy()\n",
    "    #print(\"correct: %.2f\" %tmp)\n",
    "    \n",
    "    return tmp"
   ]
  },
  {
   "cell_type": "code",
   "execution_count": 13,
   "metadata": {
    "scrolled": true
   },
   "outputs": [
    {
     "name": "stdout",
     "output_type": "stream",
     "text": [
      "3 layer, n_node: 124, dropratio: 0.50\n",
      "Correct of train: 84.78, dev: 70.59, test: 97.56\n",
      "0..\n",
      "\n",
      "[020] loss: 0.661, \n",
      "Correct of train: 100.00, dev: 70.59, test: 97.56\n",
      "time: 8.48 sec..\n",
      "Total time: 8.48 sec\n",
      "1..\n",
      "Total time: 15.37 sec\n",
      "2..\n",
      "Total time: 21.81 sec\n",
      "3..\n",
      "Total time: 31.08 sec\n",
      "4..\n",
      "Total time: 40.97 sec\n",
      "5..\n",
      "Total time: 51.58 sec\n",
      "6..\n",
      "Total time: 60.49 sec\n",
      "7..\n",
      "Total time: 67.40 sec\n",
      "8..\n",
      "Total time: 77.23 sec\n",
      "9..\n",
      "Total time: 84.14 sec\n",
      "10..\n",
      "\n",
      "[1020] loss: 0.639, \n",
      "Correct of train: 93.48, dev: 88.24, test: 92.68\n",
      "time: 90.97 sec..\n",
      "Total time: 90.97 sec\n",
      "11..\n",
      "Total time: 98.53 sec\n",
      "12..\n",
      "Total time: 103.84 sec\n",
      "13..\n",
      "Total time: 111.33 sec\n",
      "14..\n",
      "Total time: 122.64 sec\n",
      "15..\n",
      "Total time: 132.27 sec\n",
      "16..\n",
      "Total time: 141.32 sec\n",
      "17..\n",
      "Total time: 150.77 sec\n",
      "18..\n",
      "Total time: 160.60 sec\n",
      "19..\n",
      "\n",
      "[1920] loss: 0.646, \n",
      "Correct of train: 91.30, dev: 76.47, test: 92.68\n",
      "time: 170.80 sec..\n",
      "Total time: 170.80 sec\n"
     ]
    }
   ],
   "source": [
    "from utils_course import ComputeCorr\n",
    "\n",
    "total_time=0\n",
    "disp_step=10\n",
    "\n",
    "to_train=True\n",
    "if(to_train==False):\n",
    "    netname='./nets/catdog_vgg19_10.pkl'\n",
    "    model=torch.load(netname)\n",
    "else:\n",
    "    print(\"3 layer, n_node: %d, dropratio: %.2f\" %(n_node, dropratio))\n",
    "    model.eval()\n",
    "    train_corr=utils_course.ComputeCorr(train_batch, model)\n",
    "    dev_corr=utils_course.ComputeCorr(dev_batch, model)\n",
    "    test_corr=utils_course.ComputeCorr(test_batch, model)\n",
    "    \n",
    "#     train_corr=ComputeCorr(train_batch, model)  # accuracy 계산\n",
    "#     dev_corr=ComputeCorr(dev_batch, model)\n",
    "#     test_corr=ComputeCorr(test_batch, model)\n",
    "    \n",
    "    print(\"Correct of train: %.2f, dev: %.2f, test: %.2f\"\n",
    "         %(train_corr, dev_corr, test_corr))\n",
    "    model.train()\n",
    "    \n",
    "    \n",
    "    netname='./nets/catdog_vgg19'\n",
    "    # graph 그리기\n",
    "    x_epoch = []\n",
    "    y_train_err = []\n",
    "    y_dev_err = []\n",
    "    y_test_err = []\n",
    "\n",
    "    x_epoch.append(0)\n",
    "    y_train_err.append(100.0-train_corr)  # 100-accuracy=error\n",
    "    y_dev_err.append(100.0-train_corr)\n",
    "    y_test_err.append(100.0-train_corr)\n",
    "    \n",
    "    # 학습을 재시작한다면\n",
    "#     netname='../nets/media_pre_vgg19.pkl'\n",
    "#     model=torch.load(netname)\n",
    "#     # 파라미터 학습 여부 결정\n",
    "#     for params in model.layer0.parameters():\n",
    "#         params.required_grad=False\n",
    "#     for params in model.layer1.parameters():\n",
    "#         params.required_grad=True\n",
    "#     for i in range(34, epoch):\n",
    "    \n",
    "    \n",
    "    # 재시작하지 않는다면\n",
    "    for i in range(epoch):\n",
    "        start_time=time.time()\n",
    "        print(\"%d..\" %i)\n",
    "        # 배치사이즈만큼 이미지, 레이블을 떼서 학습시키기\n",
    "        for img, label in train_batch:\n",
    "            img=Variable(img).cuda()\n",
    "            label=Variable(label).cuda()\n",
    "            \n",
    "            optimizer.zero_grad()\n",
    "            output=model(img)\n",
    "            loss=loss_func(output, label)\n",
    "            loss.backward()  # gradient 계산\n",
    "            optimizer.step()  # 갱신\n",
    "            \n",
    "            \n",
    "        end_time=time.time()\n",
    "        duration=end_time - start_time\n",
    "        total_time+=duration\n",
    "        if (i % disp_step ==0) or (i==epoch-1):\n",
    "            torch.save(model, netname+'_%d.pkl'%i)\n",
    "            print(\"\\n[%d%d] loss: %.3f, \"%(i, epoch, (loss.cpu()).data.numpy()))\n",
    "            \n",
    "            # train, dev, test accuracy\n",
    "            model.eval()\n",
    "            train_corr=utils_course.ComputeCorr(train_batch, model)\n",
    "            dev_corr=utils_course.ComputeCorr(dev_batch, model)\n",
    "            test_corr=utils_course.ComputeCorr(test_batch, model)\n",
    "            print(\"Correct of train: %.2f, dev: %.2f, test: %.2f\"\n",
    "                 %(train_corr, dev_corr, test_corr))\n",
    "            model.train()\n",
    "            print(\"time: %.2f sec..\" %(total_time))\n",
    "\n",
    "            # graph 그리기\n",
    "            x_epoch.append(i+1)\n",
    "            y_train_err.append(100.0 - train_corr)\n",
    "            y_dev_err.append(100.0 - dev_corr)\n",
    "            y_test_err.append(100.0 - test_corr)\n",
    "        print(\"Total time: %.2f sec\" %total_time)"
   ]
  },
  {
   "cell_type": "code",
   "execution_count": 62,
   "metadata": {},
   "outputs": [
    {
     "data": {
      "image/png": "[encoded data removed]",
      "text/plain": [
       "<Figure size 432x288 with 1 Axes>"
      ]
     },
     "metadata": {
      "needs_background": "light"
     },
     "output_type": "display_data"
    }
   ],
   "source": [
    "# epoch-error curve\n",
    "\n",
    "if (to_train):\n",
    "    plt.plot(x_epoch, y_train_err, color='black', label='train_err', linestyle='--')\n",
    "    plt.plot(x_epoch, y_dev_err, color='red', label='dev_err')\n",
    "    plt.plot(x_epoch, y_test_err, color='blue', label='test_err')\n",
    "    \n",
    "    plt.xlabel('epoch')\n",
    "    plt.ylabel('err')\n",
    "    plt.title('epoch & err graph')\n",
    "    plt.legend(loc=\"upper right\")\n",
    "    plt.show()"
   ]
  },
  {
   "cell_type": "markdown",
   "metadata": {},
   "source": [
    "## 6. Evaluation for dev & test data"
   ]
  },
  {
   "cell_type": "code",
   "execution_count": 63,
   "metadata": {},
   "outputs": [],
   "source": [
    "def EvaluateClassifier(i_batch, i_model, i_classes, i_batch_size=32):\n",
    "    # --- 1. Confusion matrix 그리기 ---\n",
    "    # 1) pred, true 배열 구하기\n",
    "    # 전체 길이 계산\n",
    "    n = 0\n",
    "    for i, [imgs, _] in enumerate(i_batch):\n",
    "        n += len(imgs)    \n",
    "    \n",
    "    pred_1d, label_1d, prob_1d, prob_2d = ComputePredProb(i_batch, i_model, i_classes, i_batch_size)\n",
    "    \n",
    "    # 2) confusion matrix 계산\n",
    "    #print(\"size of pred: %d, true: %d\" %(len(pred_1d), len(label_1d)))\n",
    "    cnf_mat = confusion_matrix(label_1d, pred_1d)\n",
    "    #del pred_1d, label_1d\n",
    "\n",
    "    plt.figure()\n",
    "    plot_confusion_matrix(cnf_mat, classes=i_classes, normalize=True, title='Normalized confusion matrix')\n",
    "    plt.show()\n",
    "\n",
    "    plt.figure()\n",
    "    plot_confusion_matrix(cnf_mat, classes=i_classes, title='Confusion matrix, without normalization')\n",
    "    plt.show()\n",
    "\n",
    "    # --- 2. Accr, F1, Precision, Recall ---\n",
    "    matric4classifer(cnf_mat, i_classes)\n",
    "    \n",
    "    # --- 3. mAP(mean average precision ---\n",
    "    # aps: 각 클래스의 AP\n",
    "    # o_mAP: 모든 AP의 평균\n",
    "    o_mAP, aps = mAP(prob_2d, label_1d, i_classes)\n",
    "    \n",
    "    # --- 4. imAP(image mean average precision) ---\n",
    "    o_imAP, iaps = imAP(prob_2d, label_1d)\n",
    "    \n",
    "    return pred_1d, label_1d, prob_1d"
   ]
  },
  {
   "cell_type": "code",
   "execution_count": 66,
   "metadata": {},
   "outputs": [
    {
     "ename": "ModuleNotFoundError",
     "evalue": "No module named 'sklearn'",
     "output_type": "error",
     "traceback": [
      "\u001b[1;31m---------------------------------------------------------------------------\u001b[0m",
      "\u001b[1;31mModuleNotFoundError\u001b[0m                       Traceback (most recent call last)",
      "\u001b[1;32m<ipython-input-66-4ce10e6708c7>\u001b[0m in \u001b[0;36m<module>\u001b[1;34m\u001b[0m\n\u001b[1;32m----> 1\u001b[1;33m \u001b[1;32mfrom\u001b[0m \u001b[0mutils_course\u001b[0m \u001b[1;32mimport\u001b[0m \u001b[0mEvaluateClassifier\u001b[0m\u001b[1;33m\u001b[0m\u001b[1;33m\u001b[0m\u001b[0m\n\u001b[0m",
      "\u001b[1;32m~\\Desktop\\nayeon\\DL_course\\utils_course.py\u001b[0m in \u001b[0;36m<module>\u001b[1;34m\u001b[0m\n\u001b[0;32m    807\u001b[0m \u001b[1;31m# ================================================================\u001b[0m\u001b[1;33m\u001b[0m\u001b[1;33m\u001b[0m\u001b[1;33m\u001b[0m\u001b[0m\n\u001b[0;32m    808\u001b[0m \u001b[1;32mimport\u001b[0m \u001b[0mmatplotlib\u001b[0m\u001b[1;33m.\u001b[0m\u001b[0mpyplot\u001b[0m \u001b[1;32mas\u001b[0m \u001b[0mplt\u001b[0m\u001b[1;33m\u001b[0m\u001b[1;33m\u001b[0m\u001b[0m\n\u001b[1;32m--> 809\u001b[1;33m \u001b[1;32mfrom\u001b[0m \u001b[0msklearn\u001b[0m\u001b[1;33m.\u001b[0m\u001b[0mmetrics\u001b[0m \u001b[1;32mimport\u001b[0m \u001b[0mconfusion_matrix\u001b[0m\u001b[1;33m\u001b[0m\u001b[1;33m\u001b[0m\u001b[0m\n\u001b[0m\u001b[0;32m    810\u001b[0m \u001b[1;32mimport\u001b[0m \u001b[0mitertools\u001b[0m\u001b[1;33m\u001b[0m\u001b[1;33m\u001b[0m\u001b[0m\n\u001b[0;32m    811\u001b[0m \u001b[1;31m# * 호출 방법\u001b[0m\u001b[1;33m\u001b[0m\u001b[1;33m\u001b[0m\u001b[1;33m\u001b[0m\u001b[0m\n",
      "\u001b[1;31mModuleNotFoundError\u001b[0m: No module named 'sklearn'"
     ]
    }
   ],
   "source": [
    "from utils_course import EvaluateClassifier"
   ]
  },
  {
   "cell_type": "code",
   "execution_count": 64,
   "metadata": {},
   "outputs": [
    {
     "ename": "TypeError",
     "evalue": "object of type 'int' has no len()",
     "output_type": "error",
     "traceback": [
      "\u001b[1;31m---------------------------------------------------------------------------\u001b[0m",
      "\u001b[1;31mTypeError\u001b[0m                                 Traceback (most recent call last)",
      "\u001b[1;32m<ipython-input-64-cc9e5fad1c7f>\u001b[0m in \u001b[0;36m<module>\u001b[1;34m\u001b[0m\n\u001b[0;32m      1\u001b[0m \u001b[0mmodel\u001b[0m\u001b[1;33m.\u001b[0m\u001b[0meval\u001b[0m\u001b[1;33m(\u001b[0m\u001b[1;33m)\u001b[0m\u001b[1;33m\u001b[0m\u001b[1;33m\u001b[0m\u001b[0m\n\u001b[1;32m----> 2\u001b[1;33m \u001b[0mEvaluateClassifier\u001b[0m\u001b[1;33m(\u001b[0m\u001b[0mdev_batch\u001b[0m\u001b[1;33m,\u001b[0m \u001b[0mdev_data\u001b[0m\u001b[1;33m.\u001b[0m\u001b[0mclasses\u001b[0m\u001b[1;33m,\u001b[0m \u001b[0mbatch_size\u001b[0m\u001b[1;33m)\u001b[0m\u001b[1;33m\u001b[0m\u001b[1;33m\u001b[0m\u001b[0m\n\u001b[0m",
      "\u001b[1;32m<ipython-input-63-272a75dda647>\u001b[0m in \u001b[0;36mEvaluateClassifier\u001b[1;34m(i_batch, i_model, i_classes, i_batch_size)\u001b[0m\n\u001b[0;32m      7\u001b[0m         \u001b[0mn\u001b[0m \u001b[1;33m+=\u001b[0m \u001b[0mlen\u001b[0m\u001b[1;33m(\u001b[0m\u001b[0mimgs\u001b[0m\u001b[1;33m)\u001b[0m\u001b[1;33m\u001b[0m\u001b[1;33m\u001b[0m\u001b[0m\n\u001b[0;32m      8\u001b[0m \u001b[1;33m\u001b[0m\u001b[0m\n\u001b[1;32m----> 9\u001b[1;33m     \u001b[0mpred_1d\u001b[0m\u001b[1;33m,\u001b[0m \u001b[0mlabel_1d\u001b[0m\u001b[1;33m,\u001b[0m \u001b[0mprob_1d\u001b[0m\u001b[1;33m,\u001b[0m \u001b[0mprob_2d\u001b[0m \u001b[1;33m=\u001b[0m \u001b[0mComputePredProb\u001b[0m\u001b[1;33m(\u001b[0m\u001b[0mi_batch\u001b[0m\u001b[1;33m,\u001b[0m \u001b[0mi_model\u001b[0m\u001b[1;33m,\u001b[0m \u001b[0mi_classes\u001b[0m\u001b[1;33m,\u001b[0m \u001b[0mi_batch_size\u001b[0m\u001b[1;33m)\u001b[0m\u001b[1;33m\u001b[0m\u001b[1;33m\u001b[0m\u001b[0m\n\u001b[0m\u001b[0;32m     10\u001b[0m \u001b[1;33m\u001b[0m\u001b[0m\n\u001b[0;32m     11\u001b[0m     \u001b[1;31m# 2) confusion matrix 계산\u001b[0m\u001b[1;33m\u001b[0m\u001b[1;33m\u001b[0m\u001b[1;33m\u001b[0m\u001b[0m\n",
      "\u001b[1;32m~\\Desktop\\nayeon\\DL_course\\utils_course.py\u001b[0m in \u001b[0;36mComputePredProb\u001b[1;34m(i_batch, i_model, i_classes, i_batch_size)\u001b[0m\n\u001b[0;32m     94\u001b[0m         \u001b[0mn\u001b[0m \u001b[1;33m+=\u001b[0m \u001b[0mlen\u001b[0m\u001b[1;33m(\u001b[0m\u001b[0mimgs\u001b[0m\u001b[1;33m)\u001b[0m\u001b[1;33m\u001b[0m\u001b[1;33m\u001b[0m\u001b[0m\n\u001b[0;32m     95\u001b[0m \u001b[1;33m\u001b[0m\u001b[0m\n\u001b[1;32m---> 96\u001b[1;33m     \u001b[0mnclass\u001b[0m \u001b[1;33m=\u001b[0m \u001b[0mlen\u001b[0m\u001b[1;33m(\u001b[0m\u001b[0mi_classes\u001b[0m\u001b[1;33m)\u001b[0m\u001b[1;33m\u001b[0m\u001b[1;33m\u001b[0m\u001b[0m\n\u001b[0m\u001b[0;32m     97\u001b[0m \u001b[1;33m\u001b[0m\u001b[0m\n\u001b[0;32m     98\u001b[0m     \u001b[1;31m# 2. pred, true\u001b[0m\u001b[1;33m\u001b[0m\u001b[1;33m\u001b[0m\u001b[1;33m\u001b[0m\u001b[0m\n",
      "\u001b[1;31mTypeError\u001b[0m: object of type 'int' has no len()"
     ]
    }
   ],
   "source": [
    "model.eval()\n",
    "EvaluateClassifier(dev_batch, dev_data.classes, batch_size)"
   ]
  },
  {
   "cell_type": "code",
   "execution_count": 65,
   "metadata": {},
   "outputs": [
    {
     "ename": "TypeError",
     "evalue": "object of type 'int' has no len()",
     "output_type": "error",
     "traceback": [
      "\u001b[1;31m---------------------------------------------------------------------------\u001b[0m",
      "\u001b[1;31mTypeError\u001b[0m                                 Traceback (most recent call last)",
      "\u001b[1;32m<ipython-input-65-f3c6f87eb202>\u001b[0m in \u001b[0;36m<module>\u001b[1;34m\u001b[0m\n\u001b[0;32m      1\u001b[0m \u001b[0mmodel\u001b[0m\u001b[1;33m.\u001b[0m\u001b[0meval\u001b[0m\u001b[1;33m(\u001b[0m\u001b[1;33m)\u001b[0m\u001b[1;33m\u001b[0m\u001b[1;33m\u001b[0m\u001b[0m\n\u001b[1;32m----> 2\u001b[1;33m \u001b[0m_\u001b[0m\u001b[1;33m,\u001b[0m \u001b[0m_\u001b[0m\u001b[1;33m,\u001b[0m \u001b[0m_\u001b[0m\u001b[1;33m=\u001b[0m\u001b[0mEvaluateClassifier\u001b[0m\u001b[1;33m(\u001b[0m\u001b[0mtest_batch\u001b[0m\u001b[1;33m,\u001b[0m \u001b[0mtest_data\u001b[0m\u001b[1;33m.\u001b[0m\u001b[0mclasses\u001b[0m\u001b[1;33m,\u001b[0m \u001b[0mbatch_size\u001b[0m\u001b[1;33m)\u001b[0m\u001b[1;33m\u001b[0m\u001b[1;33m\u001b[0m\u001b[0m\n\u001b[0m",
      "\u001b[1;32m<ipython-input-63-272a75dda647>\u001b[0m in \u001b[0;36mEvaluateClassifier\u001b[1;34m(i_batch, i_model, i_classes, i_batch_size)\u001b[0m\n\u001b[0;32m      7\u001b[0m         \u001b[0mn\u001b[0m \u001b[1;33m+=\u001b[0m \u001b[0mlen\u001b[0m\u001b[1;33m(\u001b[0m\u001b[0mimgs\u001b[0m\u001b[1;33m)\u001b[0m\u001b[1;33m\u001b[0m\u001b[1;33m\u001b[0m\u001b[0m\n\u001b[0;32m      8\u001b[0m \u001b[1;33m\u001b[0m\u001b[0m\n\u001b[1;32m----> 9\u001b[1;33m     \u001b[0mpred_1d\u001b[0m\u001b[1;33m,\u001b[0m \u001b[0mlabel_1d\u001b[0m\u001b[1;33m,\u001b[0m \u001b[0mprob_1d\u001b[0m\u001b[1;33m,\u001b[0m \u001b[0mprob_2d\u001b[0m \u001b[1;33m=\u001b[0m \u001b[0mComputePredProb\u001b[0m\u001b[1;33m(\u001b[0m\u001b[0mi_batch\u001b[0m\u001b[1;33m,\u001b[0m \u001b[0mi_model\u001b[0m\u001b[1;33m,\u001b[0m \u001b[0mi_classes\u001b[0m\u001b[1;33m,\u001b[0m \u001b[0mi_batch_size\u001b[0m\u001b[1;33m)\u001b[0m\u001b[1;33m\u001b[0m\u001b[1;33m\u001b[0m\u001b[0m\n\u001b[0m\u001b[0;32m     10\u001b[0m \u001b[1;33m\u001b[0m\u001b[0m\n\u001b[0;32m     11\u001b[0m     \u001b[1;31m# 2) confusion matrix 계산\u001b[0m\u001b[1;33m\u001b[0m\u001b[1;33m\u001b[0m\u001b[1;33m\u001b[0m\u001b[0m\n",
      "\u001b[1;32m~\\Desktop\\nayeon\\DL_course\\utils_course.py\u001b[0m in \u001b[0;36mComputePredProb\u001b[1;34m(i_batch, i_model, i_classes, i_batch_size)\u001b[0m\n\u001b[0;32m     94\u001b[0m         \u001b[0mn\u001b[0m \u001b[1;33m+=\u001b[0m \u001b[0mlen\u001b[0m\u001b[1;33m(\u001b[0m\u001b[0mimgs\u001b[0m\u001b[1;33m)\u001b[0m\u001b[1;33m\u001b[0m\u001b[1;33m\u001b[0m\u001b[0m\n\u001b[0;32m     95\u001b[0m \u001b[1;33m\u001b[0m\u001b[0m\n\u001b[1;32m---> 96\u001b[1;33m     \u001b[0mnclass\u001b[0m \u001b[1;33m=\u001b[0m \u001b[0mlen\u001b[0m\u001b[1;33m(\u001b[0m\u001b[0mi_classes\u001b[0m\u001b[1;33m)\u001b[0m\u001b[1;33m\u001b[0m\u001b[1;33m\u001b[0m\u001b[0m\n\u001b[0m\u001b[0;32m     97\u001b[0m \u001b[1;33m\u001b[0m\u001b[0m\n\u001b[0;32m     98\u001b[0m     \u001b[1;31m# 2. pred, true\u001b[0m\u001b[1;33m\u001b[0m\u001b[1;33m\u001b[0m\u001b[1;33m\u001b[0m\u001b[0m\n",
      "\u001b[1;31mTypeError\u001b[0m: object of type 'int' has no len()"
     ]
    }
   ],
   "source": [
    "model.eval()\n",
    "_, _, _=EvaluateClassifier(test_batch, test_data.classes, batch_size)"
   ]
  },
  {
   "cell_type": "code",
   "execution_count": null,
   "metadata": {},
   "outputs": [],
   "source": [
    "utils.VisTFPred(dev_batch, model, test_data.classes, batch_size, i_n=2)"
   ]
  }
 ],
 "metadata": {
  "kernelspec": {
   "display_name": "torch_hny",
   "language": "python",
   "name": "torch_hny"
  },
  "language_info": {
   "codemirror_mode": {
    "name": "ipython",
    "version": 3
   },
   "file_extension": ".py",
   "mimetype": "text/x-python",
   "name": "python",
   "nbconvert_exporter": "python",
   "pygments_lexer": "ipython3",
   "version": "3.7.7"
  }
 },
 "nbformat": 4,
 "nbformat_minor": 4
}
