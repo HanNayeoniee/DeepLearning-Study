{
 "cells": [
  {
   "cell_type": "markdown",
   "metadata": {},
   "source": [
    "# 모델 저장과 복원"
   ]
  },
  {
   "cell_type": "code",
   "execution_count": 1,
   "metadata": {},
   "outputs": [],
   "source": [
    "# 필요한 라이브러리 설치\n",
    "!pip install -q h5py pyyaml"
   ]
  },
  {
   "cell_type": "code",
   "execution_count": 1,
   "metadata": {},
   "outputs": [
    {
     "data": {
      "text/plain": [
       "'2.1.0'"
      ]
     },
     "execution_count": 1,
     "metadata": {},
     "output_type": "execute_result"
    }
   ],
   "source": [
    "# 예제 데이터셋 다운로드\n",
    "# MNIST 데이터셋으로 모델을 훈련해 가중치 저장하는 예제\n",
    "\n",
    "from __future__ import absolute_import, division, print_function, unicode_literals, unicode_literals\n",
    "\n",
    "import os\n",
    "\n",
    "import tensorflow as tf\n",
    "from tensorflow import keras\n",
    "\n",
    "tf.__version__"
   ]
  },
  {
   "cell_type": "code",
   "execution_count": 2,
   "metadata": {},
   "outputs": [],
   "source": [
    "(train_images, train_labels), (test_images, test_labels) = tf.keras.datasets.mnist.load_data()\n",
    "\n",
    "train_labels = train_labels[:1000]\n",
    "test_labels = test_labels[:1000]\n",
    "\n",
    "train_images = train_images[:1000].reshape(-1, 28 * 28) / 255.0\n",
    "test_images = test_images[:1000].reshape(-1, 28 * 28) / 255.0"
   ]
  },
  {
   "cell_type": "markdown",
   "metadata": {},
   "source": [
    "## 모델 정의"
   ]
  },
  {
   "cell_type": "code",
   "execution_count": 3,
   "metadata": {},
   "outputs": [
    {
     "name": "stdout",
     "output_type": "stream",
     "text": [
      "Model: \"sequential\"\n",
      "_________________________________________________________________\n",
      "Layer (type)                 Output Shape              Param #   \n",
      "=================================================================\n",
      "dense (Dense)                (None, 512)               401920    \n",
      "_________________________________________________________________\n",
      "dropout (Dropout)            (None, 512)               0         \n",
      "_________________________________________________________________\n",
      "dense_1 (Dense)              (None, 10)                5130      \n",
      "=================================================================\n",
      "Total params: 407,050\n",
      "Trainable params: 407,050\n",
      "Non-trainable params: 0\n",
      "_________________________________________________________________\n"
     ]
    }
   ],
   "source": [
    "# 간단한 Sequential 모델을 반환합니다\n",
    "def create_model():\n",
    "    model = tf.keras.models.Sequential([\n",
    "        keras.layers.Dense(512, activation='relu', input_shape=(784,)),\n",
    "        keras.layers.Dropout(0.2),\n",
    "        keras.layers.Dense(10, activation='softmax')\n",
    "  ])\n",
    "    \n",
    "    model.compile(optimizer='adam',\n",
    "                loss='sparse_categorical_crossentropy',\n",
    "                metrics=['accuracy'])\n",
    "\n",
    "    return model\n",
    "\n",
    "\n",
    "# 모델 객체를 만듭니다\n",
    "model = create_model()\n",
    "model.summary()"
   ]
  },
  {
   "cell_type": "markdown",
   "metadata": {},
   "source": [
    "## 훈련하는 동안 체크포인트 저장하기"
   ]
  },
  {
   "cell_type": "markdown",
   "metadata": {},
   "source": [
    "- 다시 훈련하지 않고 모델을 재사용하거나 훈련 과정이 중지된 경우 이어서 훈련을 진행할 수 있음"
   ]
  },
  {
   "cell_type": "markdown",
   "metadata": {},
   "source": [
    "### 체크포인트 콜백 사용하기"
   ]
  },
  {
   "cell_type": "code",
   "execution_count": 4,
   "metadata": {
    "scrolled": true
   },
   "outputs": [
    {
     "name": "stdout",
     "output_type": "stream",
     "text": [
      "Train on 1000 samples, validate on 1000 samples\n",
      "Epoch 1/10\n",
      " 896/1000 [=========================>....] - ETA: 0s - loss: 1.1796 - accuracy: 0.6786\n",
      "Epoch 00001: saving model to training_1/cp.ckpt\n",
      "1000/1000 [==============================] - 1s 1ms/sample - loss: 1.1235 - accuracy: 0.6910 - val_loss: 0.6796 - val_accuracy: 0.8050\n",
      "Epoch 2/10\n",
      " 800/1000 [=======================>......] - ETA: 0s - loss: 0.4246 - accuracy: 0.8788\n",
      "Epoch 00002: saving model to training_1/cp.ckpt\n",
      "1000/1000 [==============================] - 0s 443us/sample - loss: 0.4195 - accuracy: 0.8840 - val_loss: 0.5233 - val_accuracy: 0.8390\n",
      "Epoch 3/10\n",
      " 832/1000 [=======================>......] - ETA: 0s - loss: 0.2774 - accuracy: 0.9279\n",
      "Epoch 00003: saving model to training_1/cp.ckpt\n",
      "1000/1000 [==============================] - 0s 378us/sample - loss: 0.2729 - accuracy: 0.9290 - val_loss: 0.5004 - val_accuracy: 0.8380\n",
      "Epoch 4/10\n",
      " 960/1000 [===========================>..] - ETA: 0s - loss: 0.2012 - accuracy: 0.9552\n",
      "Epoch 00004: saving model to training_1/cp.ckpt\n",
      "1000/1000 [==============================] - 0s 341us/sample - loss: 0.2024 - accuracy: 0.9520 - val_loss: 0.4378 - val_accuracy: 0.8600\n",
      "Epoch 5/10\n",
      " 896/1000 [=========================>....] - ETA: 0s - loss: 0.1550 - accuracy: 0.9710\n",
      "Epoch 00005: saving model to training_1/cp.ckpt\n",
      "1000/1000 [==============================] - 0s 346us/sample - loss: 0.1492 - accuracy: 0.9710 - val_loss: 0.4258 - val_accuracy: 0.8730\n",
      "Epoch 6/10\n",
      " 992/1000 [============================>.] - ETA: 0s - loss: 0.1110 - accuracy: 0.9778\n",
      "Epoch 00006: saving model to training_1/cp.ckpt\n",
      "1000/1000 [==============================] - 0s 412us/sample - loss: 0.1115 - accuracy: 0.9780 - val_loss: 0.4261 - val_accuracy: 0.8600\n",
      "Epoch 7/10\n",
      " 896/1000 [=========================>....] - ETA: 0s - loss: 0.0822 - accuracy: 0.9877\n",
      "Epoch 00007: saving model to training_1/cp.ckpt\n",
      "1000/1000 [==============================] - 0s 378us/sample - loss: 0.0777 - accuracy: 0.9890 - val_loss: 0.3869 - val_accuracy: 0.8770\n",
      "Epoch 8/10\n",
      " 768/1000 [======================>.......] - ETA: 0s - loss: 0.0589 - accuracy: 0.9935\n",
      "Epoch 00008: saving model to training_1/cp.ckpt\n",
      "1000/1000 [==============================] - 0s 392us/sample - loss: 0.0595 - accuracy: 0.9940 - val_loss: 0.3915 - val_accuracy: 0.8740\n",
      "Epoch 9/10\n",
      " 768/1000 [======================>.......] - ETA: 0s - loss: 0.0480 - accuracy: 0.9987\n",
      "Epoch 00009: saving model to training_1/cp.ckpt\n",
      "1000/1000 [==============================] - 0s 380us/sample - loss: 0.0488 - accuracy: 0.9970 - val_loss: 0.4033 - val_accuracy: 0.8750\n",
      "Epoch 10/10\n",
      " 768/1000 [======================>.......] - ETA: 0s - loss: 0.0351 - accuracy: 1.0000\n",
      "Epoch 00010: saving model to training_1/cp.ckpt\n",
      "1000/1000 [==============================] - 0s 387us/sample - loss: 0.0346 - accuracy: 1.0000 - val_loss: 0.3900 - val_accuracy: 0.8770\n"
     ]
    },
    {
     "data": {
      "text/plain": [
       "<tensorflow.python.keras.callbacks.History at 0x1ba6e0c9508>"
      ]
     },
     "execution_count": 4,
     "metadata": {},
     "output_type": "execute_result"
    }
   ],
   "source": [
    "checkpoint_path = \"training_1/cp.ckpt\"\n",
    "checkpoint_dir = os.path.dirname(checkpoint_path)\n",
    "\n",
    "# 체크포인트 콜백 만들기\n",
    "cp_callback = tf.keras.callbacks.ModelCheckpoint(checkpoint_path,\n",
    "                                                 save_weights_only=True,\n",
    "                                                 verbose=1)\n",
    "\n",
    "model = create_model()\n",
    "\n",
    "model.fit(train_images, train_labels,  epochs = 10,\n",
    "          validation_data = (test_images,test_labels),\n",
    "          callbacks = [cp_callback])  # 훈련 단계에 콜백을 전달합니다"
   ]
  },
  {
   "cell_type": "code",
   "execution_count": 5,
   "metadata": {},
   "outputs": [
    {
     "name": "stdout",
     "output_type": "stream",
     "text": [
      " C 드라이브의 볼륨에는 이름이 없습니다.\n",
      " 볼륨 일련 번호: E63B-F2B5\n",
      "\n",
      " C:\\DLstudy\\training_1 디렉터리\n",
      "\n",
      "2020-05-11  오후 10:21    <DIR>          .\n",
      "2020-05-11  오후 10:21    <DIR>          ..\n",
      "2020-05-11  오후 10:21                71 checkpoint\n",
      "2020-05-11  오후 10:21         4,886,700 cp.ckpt.data-00000-of-00001\n",
      "2020-05-11  오후 10:21             1,222 cp.ckpt.index\n",
      "               3개 파일           4,887,993 바이트\n",
      "               2개 디렉터리  178,225,467,392 바이트 남음\n"
     ]
    }
   ],
   "source": [
    "!dir {checkpoint_dir}"
   ]
  },
  {
   "cell_type": "markdown",
   "metadata": {},
   "source": [
    "- 훈련되지 않은 새로운 모델 만들기\n",
    "- 가중치만 복원할 때는 원본 모델과 동일한 구조로 모델을 만들어야 함\n",
    "- 다른 객체라도 구조가 같으면 가중치를 공유할 수 있음"
   ]
  },
  {
   "cell_type": "code",
   "execution_count": 6,
   "metadata": {},
   "outputs": [
    {
     "name": "stdout",
     "output_type": "stream",
     "text": [
      "1000/1000 - 0s - loss: 2.3629 - accuracy: 0.1060\n",
      "훈련되지 않은 모델의 정확도: 10.60%\n"
     ]
    }
   ],
   "source": [
    "model=create_model()\n",
    "loss, acc=model.evaluate(test_images, test_labels, verbose=2)\n",
    "print(\"훈련되지 않은 모델의 정확도: {:5.2f}%\".format(100*acc))"
   ]
  },
  {
   "cell_type": "code",
   "execution_count": 7,
   "metadata": {},
   "outputs": [
    {
     "name": "stdout",
     "output_type": "stream",
     "text": [
      "1000/1000 - 0s - loss: 0.3900 - accuracy: 0.8770\n",
      "복원된 모델의 정확도: 87.70%\n"
     ]
    }
   ],
   "source": [
    "# 체크포인트에서 가중치를 로드하고 다시 평가\n",
    "\n",
    "model.load_weights(checkpoint_path)\n",
    "loss,acc = model.evaluate(test_images,  test_labels, verbose=2)\n",
    "print(\"복원된 모델의 정확도: {:5.2f}%\".format(100*acc))"
   ]
  },
  {
   "cell_type": "markdown",
   "metadata": {},
   "source": [
    "### 체크포인트 콜백 매개변수"
   ]
  },
  {
   "cell_type": "markdown",
   "metadata": {},
   "source": [
    "- 체크포인트 이름을 설정하거나 체크포인트 주기를 조정할 수 있음\n",
    "- 새로운 모델을 훈련하고 5번 에폭마다 고유한 이름으로 체크포인트 저장하기"
   ]
  },
  {
   "cell_type": "code",
   "execution_count": 8,
   "metadata": {},
   "outputs": [
    {
     "name": "stdout",
     "output_type": "stream",
     "text": [
      "WARNING:tensorflow:`period` argument is deprecated. Please use `save_freq` to specify the frequency in number of samples seen.\n",
      "\n",
      "Epoch 00005: saving model to training_2/cp-0005.ckpt\n",
      "\n",
      "Epoch 00010: saving model to training_2/cp-0010.ckpt\n",
      "\n",
      "Epoch 00015: saving model to training_2/cp-0015.ckpt\n",
      "\n",
      "Epoch 00020: saving model to training_2/cp-0020.ckpt\n",
      "\n",
      "Epoch 00025: saving model to training_2/cp-0025.ckpt\n",
      "\n",
      "Epoch 00030: saving model to training_2/cp-0030.ckpt\n",
      "\n",
      "Epoch 00035: saving model to training_2/cp-0035.ckpt\n",
      "\n",
      "Epoch 00040: saving model to training_2/cp-0040.ckpt\n",
      "\n",
      "Epoch 00045: saving model to training_2/cp-0045.ckpt\n",
      "\n",
      "Epoch 00050: saving model to training_2/cp-0050.ckpt\n"
     ]
    },
    {
     "data": {
      "text/plain": [
       "<tensorflow.python.keras.callbacks.History at 0x1ba6fe4b908>"
      ]
     },
     "execution_count": 8,
     "metadata": {},
     "output_type": "execute_result"
    }
   ],
   "source": [
    "# 파일 이름에 에포크 번호를 포함시킵니다(`str.format` 포맷)\n",
    "checkpoint_path = \"training_2/cp-{epoch:04d}.ckpt\"\n",
    "checkpoint_dir = os.path.dirname(checkpoint_path)\n",
    "\n",
    "cp_callback = tf.keras.callbacks.ModelCheckpoint(\n",
    "    checkpoint_path, verbose=1, save_weights_only=True,\n",
    "    # 다섯 번째 에포크마다 가중치를 저장합니다\n",
    "    period=5)\n",
    "\n",
    "model = create_model()\n",
    "model.save_weights(checkpoint_path.format(epoch=0))\n",
    "model.fit(train_images, train_labels,\n",
    "          epochs = 50, callbacks = [cp_callback],\n",
    "          validation_data = (test_images,test_labels),\n",
    "          verbose=0)"
   ]
  },
  {
   "cell_type": "code",
   "execution_count": 9,
   "metadata": {},
   "outputs": [
    {
     "name": "stdout",
     "output_type": "stream",
     "text": [
      " C 드라이브의 볼륨에는 이름이 없습니다.\n",
      " 볼륨 일련 번호: E63B-F2B5\n",
      "\n",
      " C:\\DLstudy\\training_2 디렉터리\n",
      "\n",
      "2020-05-11  오후 10:22    <DIR>          .\n",
      "2020-05-11  오후 10:22    <DIR>          ..\n",
      "2020-05-11  오후 10:22                81 checkpoint\n",
      "2020-05-11  오후 10:22         1,628,741 cp-0000.ckpt.data-00000-of-00001\n",
      "2020-05-11  오후 10:22               402 cp-0000.ckpt.index\n",
      "2020-05-11  오후 10:19         4,886,700 cp-0001.ckpt.data-00000-of-00001\n",
      "2020-05-11  오후 10:19             1,222 cp-0001.ckpt.index\n",
      "2020-05-11  오후 10:19         4,886,700 cp-0002.ckpt.data-00000-of-00001\n",
      "2020-05-11  오후 10:19             1,222 cp-0002.ckpt.index\n",
      "2020-05-11  오후 10:19         4,886,700 cp-0003.ckpt.data-00000-of-00001\n",
      "2020-05-11  오후 10:19             1,222 cp-0003.ckpt.index\n",
      "2020-05-11  오후 10:19         4,886,700 cp-0004.ckpt.data-00000-of-00001\n",
      "2020-05-11  오후 10:19             1,222 cp-0004.ckpt.index\n",
      "2020-05-11  오후 10:22         4,886,700 cp-0005.ckpt.data-00000-of-00001\n",
      "2020-05-11  오후 10:22             1,222 cp-0005.ckpt.index\n",
      "2020-05-11  오후 10:20         4,886,700 cp-0006.ckpt.data-00000-of-00001\n",
      "2020-05-11  오후 10:20             1,222 cp-0006.ckpt.index\n",
      "2020-05-11  오후 10:20         4,886,700 cp-0007.ckpt.data-00000-of-00001\n",
      "2020-05-11  오후 10:20             1,222 cp-0007.ckpt.index\n",
      "2020-05-11  오후 10:20         4,886,700 cp-0008.ckpt.data-00000-of-00001\n",
      "2020-05-11  오후 10:20             1,222 cp-0008.ckpt.index\n",
      "2020-05-11  오후 10:20         4,886,700 cp-0009.ckpt.data-00000-of-00001\n",
      "2020-05-11  오후 10:20             1,222 cp-0009.ckpt.index\n",
      "2020-05-11  오후 10:22         4,886,700 cp-0010.ckpt.data-00000-of-00001\n",
      "2020-05-11  오후 10:22             1,222 cp-0010.ckpt.index\n",
      "2020-05-11  오후 10:20         4,886,700 cp-0011.ckpt.data-00000-of-00001\n",
      "2020-05-11  오후 10:20             1,222 cp-0011.ckpt.index\n",
      "2020-05-11  오후 10:20    <DIR>          cp-0011.ckpt_temp_24061f1c39134cfcaf3cb8539fdee6a9\n",
      "2020-05-11  오후 10:22         4,886,700 cp-0015.ckpt.data-00000-of-00001\n",
      "2020-05-11  오후 10:22             1,222 cp-0015.ckpt.index\n",
      "2020-05-11  오후 10:22         4,886,700 cp-0020.ckpt.data-00000-of-00001\n",
      "2020-05-11  오후 10:22             1,222 cp-0020.ckpt.index\n",
      "2020-05-11  오후 10:22         4,886,700 cp-0025.ckpt.data-00000-of-00001\n",
      "2020-05-11  오후 10:22             1,222 cp-0025.ckpt.index\n",
      "2020-05-11  오후 10:22         4,886,700 cp-0030.ckpt.data-00000-of-00001\n",
      "2020-05-11  오후 10:22             1,222 cp-0030.ckpt.index\n",
      "2020-05-11  오후 10:22         4,886,700 cp-0035.ckpt.data-00000-of-00001\n",
      "2020-05-11  오후 10:22             1,222 cp-0035.ckpt.index\n",
      "2020-05-11  오후 10:22         4,886,700 cp-0040.ckpt.data-00000-of-00001\n",
      "2020-05-11  오후 10:22             1,222 cp-0040.ckpt.index\n",
      "2020-05-11  오후 10:22         4,886,700 cp-0045.ckpt.data-00000-of-00001\n",
      "2020-05-11  오후 10:22             1,222 cp-0045.ckpt.index\n",
      "2020-05-11  오후 10:22         4,886,700 cp-0050.ckpt.data-00000-of-00001\n",
      "2020-05-11  오후 10:22             1,222 cp-0050.ckpt.index\n",
      "              41개 파일          94,499,742 바이트\n",
      "               3개 디렉터리  178,227,646,464 바이트 남음\n"
     ]
    }
   ],
   "source": [
    "# 만들어진 체크포인트 확인\n",
    "!dir {checkpoint_dir}"
   ]
  },
  {
   "cell_type": "code",
   "execution_count": 10,
   "metadata": {},
   "outputs": [
    {
     "data": {
      "text/plain": [
       "'training_2\\\\cp-0050.ckpt'"
      ]
     },
     "execution_count": 10,
     "metadata": {},
     "output_type": "execute_result"
    }
   ],
   "source": [
    "# 가장 마지막 체크포인트 선택\n",
    "latest = tf.train.latest_checkpoint(checkpoint_dir)\n",
    "latest"
   ]
  },
  {
   "cell_type": "code",
   "execution_count": 11,
   "metadata": {},
   "outputs": [
    {
     "name": "stdout",
     "output_type": "stream",
     "text": [
      "WARNING:tensorflow:Unresolved object in checkpoint: (root).optimizer.iter\n",
      "WARNING:tensorflow:Unresolved object in checkpoint: (root).optimizer.beta_1\n",
      "WARNING:tensorflow:Unresolved object in checkpoint: (root).optimizer.beta_2\n",
      "WARNING:tensorflow:Unresolved object in checkpoint: (root).optimizer.decay\n",
      "WARNING:tensorflow:Unresolved object in checkpoint: (root).optimizer.learning_rate\n",
      "WARNING:tensorflow:A checkpoint was restored (e.g. tf.train.Checkpoint.restore or tf.keras.Model.load_weights) but not all checkpointed values were used. See above for specific issues. Use expect_partial() on the load status object, e.g. tf.train.Checkpoint.restore(...).expect_partial(), to silence these warnings, or use assert_consumed() to make the check explicit. See https://www.tensorflow.org/guide/checkpoint#loading_mechanics for details.\n",
      "1000/1000 - 0s - loss: 0.4860 - accuracy: 0.8720\n",
      "복원된 모델의 정확도: 87.20%\n"
     ]
    }
   ],
   "source": [
    "# 모델을 초기화하고 최근 체크포인트 로드해 테스트\n",
    "\n",
    "model = create_model()\n",
    "model.load_weights(latest)\n",
    "loss, acc = model.evaluate(test_images,  test_labels, verbose=2)\n",
    "print(\"복원된 모델의 정확도: {:5.2f}%\".format(100*acc))"
   ]
  },
  {
   "cell_type": "markdown",
   "metadata": {},
   "source": [
    "### 수동으로 가중치 저장하기"
   ]
  },
  {
   "cell_type": "code",
   "execution_count": 12,
   "metadata": {},
   "outputs": [
    {
     "name": "stdout",
     "output_type": "stream",
     "text": [
      "1000/1000 - 0s - loss: 0.4860 - accuracy: 0.8720\n",
      "복원된 모델의 정확도: 87.20%\n"
     ]
    }
   ],
   "source": [
    "# 가중치를 저장합니다\n",
    "model.save_weights('./checkpoints/my_checkpoint')\n",
    "\n",
    "# 가중치를 복원합니다\n",
    "model = create_model()\n",
    "model.load_weights('./checkpoints/my_checkpoint')\n",
    "\n",
    "loss,acc = model.evaluate(test_images,  test_labels, verbose=2)\n",
    "print(\"복원된 모델의 정확도: {:5.2f}%\".format(100*acc))"
   ]
  },
  {
   "cell_type": "markdown",
   "metadata": {},
   "source": [
    "## 모델 전체를 저장하기"
   ]
  },
  {
   "cell_type": "markdown",
   "metadata": {},
   "source": [
    "### HDF5 파일로 저장하기"
   ]
  },
  {
   "cell_type": "code",
   "execution_count": 13,
   "metadata": {
    "scrolled": true
   },
   "outputs": [
    {
     "name": "stdout",
     "output_type": "stream",
     "text": [
      "Train on 1000 samples\n",
      "Epoch 1/5\n",
      "1000/1000 [==============================] - 1s 855us/sample - loss: 1.1882 - accuracy: 0.6380\n",
      "Epoch 2/5\n",
      "1000/1000 [==============================] - 0s 210us/sample - loss: 0.4267 - accuracy: 0.8840\n",
      "Epoch 3/5\n",
      "1000/1000 [==============================] - 0s 197us/sample - loss: 0.2815 - accuracy: 0.9310\n",
      "Epoch 4/5\n",
      "1000/1000 [==============================] - 0s 207us/sample - loss: 0.2106 - accuracy: 0.9490\n",
      "Epoch 5/5\n",
      "1000/1000 [==============================] - 0s 192us/sample - loss: 0.1531 - accuracy: 0.9680\n"
     ]
    }
   ],
   "source": [
    "model = create_model()\n",
    "\n",
    "model.fit(train_images, train_labels, epochs=5)\n",
    "\n",
    "# 전체 모델을 HDF5 파일로 저장합니다\n",
    "model.save('my_model.h5')"
   ]
  },
  {
   "cell_type": "code",
   "execution_count": 14,
   "metadata": {},
   "outputs": [
    {
     "name": "stdout",
     "output_type": "stream",
     "text": [
      "Model: \"sequential_6\"\n",
      "_________________________________________________________________\n",
      "Layer (type)                 Output Shape              Param #   \n",
      "=================================================================\n",
      "dense_12 (Dense)             (None, 512)               401920    \n",
      "_________________________________________________________________\n",
      "dropout_6 (Dropout)          (None, 512)               0         \n",
      "_________________________________________________________________\n",
      "dense_13 (Dense)             (None, 10)                5130      \n",
      "=================================================================\n",
      "Total params: 407,050\n",
      "Trainable params: 407,050\n",
      "Non-trainable params: 0\n",
      "_________________________________________________________________\n"
     ]
    }
   ],
   "source": [
    "# 위의 파일로 모델 만들기\n",
    "# 가중치와 옵티마이저를 포함하여 정확히 동일한 모델을 다시 생성합니다\n",
    "\n",
    "new_model = keras.models.load_model('my_model.h5')\n",
    "new_model.summary()"
   ]
  },
  {
   "cell_type": "code",
   "execution_count": 16,
   "metadata": {},
   "outputs": [
    {
     "name": "stdout",
     "output_type": "stream",
     "text": [
      "1000/1000 - 0s - loss: 0.4115 - accuracy: 0.8630\n",
      "복원된 모델의 정확도: 86.30%\n"
     ]
    }
   ],
   "source": [
    "# 정확도 확인\n",
    "\n",
    "loss, acc = new_model.evaluate(test_images,  test_labels, verbose=2)\n",
    "print(\"복원된 모델의 정확도: {:5.2f}%\".format(100*acc))"
   ]
  },
  {
   "cell_type": "markdown",
   "metadata": {},
   "source": [
    "### saved_model을 사용하기"
   ]
  },
  {
   "cell_type": "code",
   "execution_count": 23,
   "metadata": {},
   "outputs": [
    {
     "name": "stdout",
     "output_type": "stream",
     "text": [
      "Train on 1000 samples\n",
      "Epoch 1/5\n",
      "1000/1000 [==============================] - 1s 816us/sample - loss: 1.2384 - accuracy: 0.6390\n",
      "Epoch 2/5\n",
      "1000/1000 [==============================] - 0s 188us/sample - loss: 0.4462 - accuracy: 0.8790\n",
      "Epoch 3/5\n",
      "1000/1000 [==============================] - 0s 198us/sample - loss: 0.3066 - accuracy: 0.9210\n",
      "Epoch 4/5\n",
      "1000/1000 [==============================] - 0s 198us/sample - loss: 0.2153 - accuracy: 0.9460\n",
      "Epoch 5/5\n",
      "1000/1000 [==============================] - 0s 206us/sample - loss: 0.1628 - accuracy: 0.9660\n",
      "INFO:tensorflow:Assets written to: saved_model\\my_model\\assets\n"
     ]
    }
   ],
   "source": [
    "# 새로운 모델 만들기\n",
    "\n",
    "model = create_model()\n",
    "model.fit(train_images, train_labels, epochs=5)\n",
    "\n",
    "# Save the entire model as a SavedModel.\n",
    "!mkdir -p saved_model\n",
    "model.save('saved_model\\my_model') "
   ]
  },
  {
   "cell_type": "code",
   "execution_count": 18,
   "metadata": {},
   "outputs": [
    {
     "ename": "AttributeError",
     "evalue": "module 'tensorflow_core.python.keras.api._v2.keras.experimental' has no attribute 'export_saved_model'",
     "output_type": "error",
     "traceback": [
      "\u001b[1;31m---------------------------------------------------------------------------\u001b[0m",
      "\u001b[1;31mAttributeError\u001b[0m                            Traceback (most recent call last)",
      "\u001b[1;32m<ipython-input-18-c94c4c1ccaa7>\u001b[0m in \u001b[0;36m<module>\u001b[1;34m\u001b[0m\n\u001b[0;32m      4\u001b[0m \u001b[0msaved_model_path\u001b[0m \u001b[1;33m=\u001b[0m \u001b[1;34m\"./saved_models/{}\"\u001b[0m\u001b[1;33m.\u001b[0m\u001b[0mformat\u001b[0m\u001b[1;33m(\u001b[0m\u001b[0mint\u001b[0m\u001b[1;33m(\u001b[0m\u001b[0mtime\u001b[0m\u001b[1;33m.\u001b[0m\u001b[0mtime\u001b[0m\u001b[1;33m(\u001b[0m\u001b[1;33m)\u001b[0m\u001b[1;33m)\u001b[0m\u001b[1;33m)\u001b[0m\u001b[1;33m\u001b[0m\u001b[1;33m\u001b[0m\u001b[0m\n\u001b[0;32m      5\u001b[0m \u001b[1;33m\u001b[0m\u001b[0m\n\u001b[1;32m----> 6\u001b[1;33m \u001b[0mtf\u001b[0m\u001b[1;33m.\u001b[0m\u001b[0mkeras\u001b[0m\u001b[1;33m.\u001b[0m\u001b[0mexperimental\u001b[0m\u001b[1;33m.\u001b[0m\u001b[0mexport_saved_model\u001b[0m\u001b[1;33m(\u001b[0m\u001b[0mmodel\u001b[0m\u001b[1;33m,\u001b[0m \u001b[0msaved_model_path\u001b[0m\u001b[1;33m)\u001b[0m\u001b[1;33m\u001b[0m\u001b[1;33m\u001b[0m\u001b[0m\n\u001b[0m\u001b[0;32m      7\u001b[0m \u001b[0msaved_model_path\u001b[0m\u001b[1;33m\u001b[0m\u001b[1;33m\u001b[0m\u001b[0m\n",
      "\u001b[1;31mAttributeError\u001b[0m: module 'tensorflow_core.python.keras.api._v2.keras.experimental' has no attribute 'export_saved_model'"
     ]
    }
   ],
   "source": [
    "# saved_model을 만들어 타임스탬프를 이름으로 가진 디렉토리에 저장\n",
    "\n",
    "import time\n",
    "saved_model_path = \"./saved_models/{}\".format(int(time.time()))\n",
    "\n",
    "tf.keras.experimental.export_saved_model(model, saved_model_path)\n",
    "saved_model_path"
   ]
  },
  {
   "cell_type": "code",
   "execution_count": 24,
   "metadata": {},
   "outputs": [
    {
     "name": "stdout",
     "output_type": "stream",
     "text": [
      " C 드라이브의 볼륨에는 이름이 없습니다.\n",
      " 볼륨 일련 번호: E63B-F2B5\n",
      "\n",
      " C:\\DLstudy\\saved_model 디렉터리\n",
      "\n",
      "2020-05-11  오후 10:31    <DIR>          .\n",
      "2020-05-11  오후 10:31    <DIR>          ..\n",
      "2020-05-11  오후 10:32    <DIR>          my_model\n",
      "               0개 파일                   0 바이트\n",
      "               3개 디렉터리  178,206,339,072 바이트 남음\n",
      " C 드라이브의 볼륨에는 이름이 없습니다.\n",
      " 볼륨 일련 번호: E63B-F2B5\n",
      "\n",
      " C:\\DLstudy\\saved_model\\my_model 디렉터리\n",
      "\n",
      "2020-05-11  오후 10:32    <DIR>          .\n",
      "2020-05-11  오후 10:32    <DIR>          ..\n",
      "2020-05-11  오후 10:31    <DIR>          assets\n",
      "2020-05-11  오후 10:32            83,502 saved_model.pb\n",
      "2020-05-11  오후 10:31    <DIR>          variables\n",
      "               1개 파일              83,502 바이트\n",
      "               4개 디렉터리  178,206,339,072 바이트 남음\n"
     ]
    }
   ],
   "source": [
    "# my_model 경로\n",
    "!dir saved_model\n",
    "\n",
    "# assets folder, saved_model.pb, variable folder 들어있음\n",
    "!dir saved_model\\my_model"
   ]
  },
  {
   "cell_type": "code",
   "execution_count": 25,
   "metadata": {},
   "outputs": [
    {
     "name": "stdout",
     "output_type": "stream",
     "text": [
      "Model: \"sequential_10\"\n",
      "_________________________________________________________________\n",
      "Layer (type)                 Output Shape              Param #   \n",
      "=================================================================\n",
      "dense_20 (Dense)             (None, 512)               401920    \n",
      "_________________________________________________________________\n",
      "dropout_10 (Dropout)         (None, 512)               0         \n",
      "_________________________________________________________________\n",
      "dense_21 (Dense)             (None, 10)                5130      \n",
      "=================================================================\n",
      "Total params: 407,050\n",
      "Trainable params: 407,050\n",
      "Non-trainable params: 0\n",
      "_________________________________________________________________\n"
     ]
    }
   ],
   "source": [
    "# saved model에서 다시 모델 로드\n",
    "\n",
    "new_model = tf.keras.models.load_model('saved_model/my_model')\n",
    "\n",
    "# Check its architecture\n",
    "new_model.summary()"
   ]
  },
  {
   "cell_type": "code",
   "execution_count": 26,
   "metadata": {},
   "outputs": [
    {
     "name": "stdout",
     "output_type": "stream",
     "text": [
      "1000/1000 - 0s - loss: 0.4328 - accuracy: 0.8560\n",
      "Restored model, accuracy: 85.60%\n",
      "(1000, 10)\n"
     ]
    }
   ],
   "source": [
    "# Evaluate the restored model\n",
    "loss, acc = new_model.evaluate(test_images,  test_labels, verbose=2)\n",
    "print('Restored model, accuracy: {:5.2f}%'.format(100*acc))\n",
    "\n",
    "print(new_model.predict(test_images).shape)"
   ]
  },
  {
   "cell_type": "code",
   "execution_count": null,
   "metadata": {},
   "outputs": [],
   "source": []
  }
 ],
 "metadata": {
  "kernelspec": {
   "display_name": "Python 3",
   "language": "python",
   "name": "python3"
  },
  "language_info": {
   "codemirror_mode": {
    "name": "ipython",
    "version": 3
   },
   "file_extension": ".py",
   "mimetype": "text/x-python",
   "name": "python",
   "nbconvert_exporter": "python",
   "pygments_lexer": "ipython3",
   "version": "3.7.7"
  }
 },
 "nbformat": 4,
 "nbformat_minor": 4
}
