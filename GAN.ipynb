{
 "cells": [
  {
   "cell_type": "code",
   "execution_count": null,
   "metadata": {},
   "outputs": [],
   "source": []
  },
  {
   "cell_type": "markdown",
   "metadata": {},
   "source": [
    "# GAN 직접 만들어보기\n",
    "\n",
    "참고 링크 : https://dreamgonfly.github.io/blog/gan-explained/"
   ]
  },
  {
   "cell_type": "code",
   "execution_count": 3,
   "metadata": {},
   "outputs": [],
   "source": [
    "# 1) 라이브러리 및 데이터 불러오기\n",
    "\n",
    "import torch\n",
    "import torch.nn as nn\n",
    "from torch.optim import Adam\n",
    "from torchvision import datasets, transforms\n",
    "from torch.utils.data import DataLoader\n",
    "from torch.autograd import Variable\n",
    "import pickle\n",
    "\n",
    "# 데이터 전처리 방식을 지정\n",
    "transform = transforms.Compose([\n",
    "    transforms.ToTensor(),\n",
    "    transforms.Normalize(mean=(0.5, ), std=(0.5, ))\n",
    "])\n",
    "\n",
    "# MNIST 데이터셋 불러오기\n",
    "mnist = datasets.MNIST(root='data', download=True, transform=transform)\n",
    "# 데이터를 한번에 batch_size만큼만 가져오는 dataloader 만들기\n",
    "dataloader = DataLoader(mnist, batch_size=60, shuffle=True)"
   ]
  },
  {
   "cell_type": "code",
   "execution_count": 4,
   "metadata": {},
   "outputs": [],
   "source": [
    "import os\n",
    "import imageio\n",
    "\n",
    "if torch.cuda.is_available():\n",
    "    use_gpu = True\n",
    "leave_log = True\n",
    "if leave_log:\n",
    "    result_dir = 'GAN_generated_images'\n",
    "    if not os.path.isdir(result_dir):\n",
    "        os.mkdir(result_dir)"
   ]
  },
  {
   "cell_type": "code",
   "execution_count": 5,
   "metadata": {
    "pycharm": {
     "name": "#%%\n"
    }
   },
   "outputs": [],
   "source": [
    "# 2) GAN의 생성자\n",
    "# 생성자는 랜덤 벡터 z를 입력으로 받아 가짜 이미지를 출력함\n",
    "class Generator(nn.Module):\n",
    "    def __init__(self):\n",
    "        super(Generator, self).__init__()\n",
    "        self.main = nn.Sequential(\n",
    "            nn.Linear(in_features=100, out_features=256),\n",
    "            nn.LeakyReLU(0.2, inplace=True),\n",
    "            nn.Linear(in_features=256, out_features=512),\n",
    "            nn.LeakyReLU(0.2, inplace=True),\n",
    "            nn.Linear(in_features=512, out_features=1024),\n",
    "            nn.LeakyReLU(0.2, inplace=True),\n",
    "            nn.Linear(in_features=1024, out_features=28*28),\n",
    "            nn.Tanh())  # 출력값을 -1과 1사이로 만들기 위해 tanh사용\n",
    "\n",
    "    # (batch_size, 100) 크기의 랜덤 벡터를 받아\n",
    "    # 이미지를 (batch_size, 1, 2, 28)크기로 출력함\n",
    "    def forward(self, inputs):\n",
    "        return self.main(inputs).view(-1, 1, 28, 28)\n"
   ]
  },
  {
   "cell_type": "code",
   "execution_count": 6,
   "metadata": {
    "pycharm": {
     "name": "#%%\n"
    }
   },
   "outputs": [],
   "source": [
    "# 3) GAN의 구분자\n",
    "# 구분자는 이미지를 입력으로 받아 이미지가 진짜인지 가짜인지 출력함\n",
    "class Discriminator(nn.Module):\n",
    "    def __init__(self):\n",
    "        super(Discriminator, self).__init__()\n",
    "        self.main = nn.Sequential(\n",
    "            nn.Linear(in_features=28*28, out_features=1024),\n",
    "            nn.LeakyReLU(0.2, inplace=True),\n",
    "            nn.Dropout(inplace=True),\n",
    "            nn.Linear(in_features=1024, out_features=512),\n",
    "            nn.LeakyReLU(0.2, inplace=True),\n",
    "            nn.Dropout(inplace=True),\n",
    "            nn.Linear(in_features=512, out_features=256),\n",
    "            nn.LeakyReLU(0.2, inplace=True),\n",
    "            nn.Dropout(inplace=True),\n",
    "            nn.Linear(in_features=256, out_features=1),\n",
    "            nn.Sigmoid())\n",
    "\n",
    "    # (batch_size, 1, 28, 28)크기의 이미지를 받아\n",
    "    # 이미지가 진짜일 확률을 0~1 사이로 출력함\n",
    "    def forward(self, inputs):\n",
    "        inputs = inputs.view(-1, 28*28)\n",
    "        return self.main(inputs)"
   ]
  },
  {
   "cell_type": "code",
   "execution_count": 11,
   "metadata": {
    "pycharm": {
     "name": "#%%\n"
    }
   },
   "outputs": [
    {
     "ename": "NameError",
     "evalue": "name 'use_gpu' is not defined",
     "output_type": "error",
     "traceback": [
      "\u001b[1;31m---------------------------------------------------------------------------\u001b[0m",
      "\u001b[1;31mNameError\u001b[0m                                 Traceback (most recent call last)",
      "\u001b[1;32m<ipython-input-11-ae2c6c6c3dc2>\u001b[0m in \u001b[0;36m<module>\u001b[1;34m\u001b[0m\n\u001b[0;32m      2\u001b[0m \u001b[0mG\u001b[0m \u001b[1;33m=\u001b[0m \u001b[0mGenerator\u001b[0m\u001b[1;33m(\u001b[0m\u001b[1;33m)\u001b[0m\u001b[1;33m\u001b[0m\u001b[1;33m\u001b[0m\u001b[0m\n\u001b[0;32m      3\u001b[0m \u001b[0mD\u001b[0m \u001b[1;33m=\u001b[0m \u001b[0mDiscriminator\u001b[0m\u001b[1;33m(\u001b[0m\u001b[1;33m)\u001b[0m\u001b[1;33m\u001b[0m\u001b[1;33m\u001b[0m\u001b[0m\n\u001b[1;32m----> 4\u001b[1;33m \u001b[1;32mif\u001b[0m \u001b[0muse_gpu\u001b[0m\u001b[1;33m:\u001b[0m\u001b[1;33m\u001b[0m\u001b[1;33m\u001b[0m\u001b[0m\n\u001b[0m\u001b[0;32m      5\u001b[0m     \u001b[0mG\u001b[0m\u001b[1;33m.\u001b[0m\u001b[0mcuda\u001b[0m\u001b[1;33m(\u001b[0m\u001b[1;33m)\u001b[0m\u001b[1;33m\u001b[0m\u001b[1;33m\u001b[0m\u001b[0m\n\u001b[0;32m      6\u001b[0m     \u001b[0mD\u001b[0m\u001b[1;33m.\u001b[0m\u001b[0mcuda\u001b[0m\u001b[1;33m(\u001b[0m\u001b[1;33m)\u001b[0m\u001b[1;33m\u001b[0m\u001b[1;33m\u001b[0m\u001b[0m\n",
      "\u001b[1;31mNameError\u001b[0m: name 'use_gpu' is not defined"
     ]
    }
   ],
   "source": [
    "# 4) 생성자와 구분자의 객체 만들기\n",
    "G = Generator()\n",
    "D = Discriminator()\n",
    "if use_gpu:\n",
    "    G.cuda()\n",
    "    D.cuda()"
   ]
  },
  {
   "cell_type": "code",
   "execution_count": 8,
   "metadata": {
    "pycharm": {
     "name": "#%%\n"
    }
   },
   "outputs": [],
   "source": [
    "# 5) 손실 함수와 최적화 기법 지정하기\n",
    "criterion = nn.BCELoss()\n",
    "G_optimizer = Adam(G.parameters(), lr=0.0002, betas=(0.5, 0.999))\n",
    "D_optimizer = Adam(D.parameters(), lr=0.0002, betas=(0.5, 0.999))"
   ]
  },
  {
   "cell_type": "code",
   "execution_count": 9,
   "metadata": {},
   "outputs": [],
   "source": [
    "# 학습 결과 시각화하기\n",
    "%matplotlib inline\n",
    "from matplotlib import pyplot as plt\n",
    "import numpy as np\n",
    "\n",
    "def square_plot(data, path):\n",
    "    \"\"\"Take an array of shape (n, height, width) or (n, height, width , 3)\n",
    "       and visualize each (height, width) thing in a grid of size approx. sqrt(n) by sqrt(n)\"\"\"\n",
    "\n",
    "    if type(data) == list:\n",
    "        data = np.concatenate(data)\n",
    "    # normalize data for display\n",
    "    data = (data - data.min()) / (data.max() - data.min())\n",
    "\n",
    "    # force the number of filters to be square\n",
    "    n = int(np.ceil(np.sqrt(data.shape[0])))\n",
    "\n",
    "    padding = (((0, n ** 2 - data.shape[0]) ,\n",
    "                (0, 1), (0, 1))  # add some space between filters\n",
    "               + ((0, 0),) * (data.ndim - 3))  # don't pad the last dimension (if there is one)\n",
    "    data = np.pad(data , padding, mode='constant' , constant_values=1)  # pad with ones (white)\n",
    "\n",
    "    # tilethe filters into an image\n",
    "    data = data.reshape((n , n) + data.shape[1:]).transpose((0 , 2 , 1 , 3) + tuple(range(4 , data.ndim + 1)))\n",
    "\n",
    "    data = data.reshape((n * data.shape[1] , n * data.shape[3]) + data.shape[4:])\n",
    "\n",
    "    plt.imsave(path, data, cmap='gray')"
   ]
  },
  {
   "cell_type": "code",
   "execution_count": 10,
   "metadata": {},
   "outputs": [
    {
     "name": "stderr",
     "output_type": "stream",
     "text": [
      "<ipython-input-10-8b401d4d980b>:7: UserWarning: volatile was removed and now has no effect. Use `with torch.no_grad():` instead.\n",
      "  z_fixed = Variable(torch.randn(5 * 5, 100), volatile=True)\n"
     ]
    },
    {
     "ename": "NameError",
     "evalue": "name 'use_gpu' is not defined",
     "output_type": "error",
     "traceback": [
      "\u001b[1;31m---------------------------------------------------------------------------\u001b[0m",
      "\u001b[1;31mNameError\u001b[0m                                 Traceback (most recent call last)",
      "\u001b[1;32m<ipython-input-10-8b401d4d980b>\u001b[0m in \u001b[0;36m<module>\u001b[1;34m\u001b[0m\n\u001b[0;32m      6\u001b[0m \u001b[1;33m\u001b[0m\u001b[0m\n\u001b[0;32m      7\u001b[0m \u001b[0mz_fixed\u001b[0m \u001b[1;33m=\u001b[0m \u001b[0mVariable\u001b[0m\u001b[1;33m(\u001b[0m\u001b[0mtorch\u001b[0m\u001b[1;33m.\u001b[0m\u001b[0mrandn\u001b[0m\u001b[1;33m(\u001b[0m\u001b[1;36m5\u001b[0m \u001b[1;33m*\u001b[0m \u001b[1;36m5\u001b[0m\u001b[1;33m,\u001b[0m \u001b[1;36m100\u001b[0m\u001b[1;33m)\u001b[0m\u001b[1;33m,\u001b[0m \u001b[0mvolatile\u001b[0m\u001b[1;33m=\u001b[0m\u001b[1;32mTrue\u001b[0m\u001b[1;33m)\u001b[0m\u001b[1;33m\u001b[0m\u001b[1;33m\u001b[0m\u001b[0m\n\u001b[1;32m----> 8\u001b[1;33m \u001b[1;32mif\u001b[0m \u001b[0muse_gpu\u001b[0m\u001b[1;33m:\u001b[0m\u001b[1;33m\u001b[0m\u001b[1;33m\u001b[0m\u001b[0m\n\u001b[0m\u001b[0;32m      9\u001b[0m     \u001b[0mz_fixed\u001b[0m \u001b[1;33m=\u001b[0m \u001b[0mz_fixed\u001b[0m\u001b[1;33m.\u001b[0m\u001b[0mcuda\u001b[0m\u001b[1;33m(\u001b[0m\u001b[1;33m)\u001b[0m\u001b[1;33m\u001b[0m\u001b[1;33m\u001b[0m\u001b[0m\n",
      "\u001b[1;31mNameError\u001b[0m: name 'use_gpu' is not defined"
     ]
    }
   ],
   "source": [
    "if leave_log:\n",
    "    train_hist = {}\n",
    "    train_hist['D_losses'] = []\n",
    "    train_hist['G_losses'] = []\n",
    "    generated_images = []\n",
    "    \n",
    "z_fixed = Variable(torch.randn(5 * 5, 100), volatile=True)\n",
    "if use_gpu:\n",
    "    z_fixed = z_fixed.cuda()"
   ]
  },
  {
   "cell_type": "code",
   "execution_count": null,
   "metadata": {
    "pycharm": {
     "name": "#%%\n"
    }
   },
   "outputs": [],
   "source": [
    "# 6) 모델 학습을 위한 반복문\n",
    "\n",
    "### 모델 학습을 위한 반복문\n",
    "# 데이터셋을 100번 돌며 학습한다.\n",
    "for epoch in range(100):\n",
    "\n",
    "    if leave_log:\n",
    "        D_losses = []\n",
    "        G_losses = []\n",
    "\n",
    "    # 한번에 batch_size만큼 데이터를 가져온다.\n",
    "    for real_data, _ in dataloader:\n",
    "        batch_size = real_data.size(0)\n",
    "\n",
    "        # 데이터를 pytorch의 변수로 변환한다.\n",
    "        real_data = Variable(real_data)\n",
    "\n",
    "        ### 구분자 학습시키기\n",
    "\n",
    "        # 이미지가 진짜일 때 정답 값은 1이고 가짜일 때는 0이다.\n",
    "        # 정답지에 해당하는 변수를 만든다.\n",
    "        target_real = Variable(torch.ones(batch_size, 1))\n",
    "        target_fake = Variable(torch.zeros(batch_size, 1))\n",
    "\n",
    "        if use_gpu:\n",
    "            real_data, target_real, target_fake = real_data.cuda(), target_real.cuda(), target_fake.cuda()\n",
    "\n",
    "        # 진짜 이미지를 구분자에 넣는다.\n",
    "        D_result_from_real = D(real_data)\n",
    "        # 구분자의 출력값이 정답지인 1에서 멀수록 loss가 높아진다.\n",
    "        D_loss_real = criterion(D_result_from_real, target_real)\n",
    "\n",
    "        # 생성자에 입력으로 줄 랜덤 벡터 z를 만든다.\n",
    "        z = Variable(torch.randn((batch_size, 100)))\n",
    "\n",
    "        if use_gpu:\n",
    "            z = z.cuda()\n",
    "\n",
    "        # 생성자로 가짜 이미지를 생성한다.\n",
    "        fake_data = G(z)\n",
    "\n",
    "        # 생성자가 만든 가짜 이미지를 구분자에 넣는다.\n",
    "        D_result_from_fake = D(fake_data)\n",
    "        # 구분자의 출력값이 정답지인 0에서 멀수록 loss가 높아진다.\n",
    "        D_loss_fake = criterion(D_result_from_fake, target_fake)\n",
    "\n",
    "        # 구분자의 loss는 두 문제에서 계산된 loss의 합이다.\n",
    "        D_loss = D_loss_real + D_loss_fake\n",
    "\n",
    "        # 구분자의 매개 변수의 미분값을 0으로 초기화한다.\n",
    "        D.zero_grad()\n",
    "        # 역전파를 통해 매개 변수의 loss에 대한 미분값을 계산한다.\n",
    "        D_loss.backward()\n",
    "        # 최적화 기법을 이용해 구분자의 매개 변수를 업데이트한다.\n",
    "        D_optimizer.step()\n",
    "\n",
    "        if leave_log:\n",
    "            D_losses.append(D_loss.data[0])\n",
    "\n",
    "        # train generator G\n",
    "\n",
    "        ### 생성자 학습시키기\n",
    "\n",
    "        # 생성자에 입력으로 줄 랜덤 벡터 z를 만든다.\n",
    "        z = Variable(torch.randn((batch_size, 100)))\n",
    "\n",
    "        if use_gpu:\n",
    "            z = z.cuda()\n",
    "\n",
    "        # 생성자로 가짜 이미지를 생성한다.\n",
    "        fake_data = G(z)\n",
    "        # 생성자가 만든 가짜 이미지를 구분자에 넣는다.\n",
    "        D_result_from_fake = D(fake_data)\n",
    "        # 생성자의 입장에서 구분자의 출력값이 1에서 멀수록 loss가 높아진다.\n",
    "        G_loss = criterion(D_result_from_fake, target_real)\n",
    "\n",
    "        # 생성자의 매개 변수의 미분값을 0으로 초기화한다.\n",
    "        G.zero_grad()\n",
    "        # 역전파를 통해 매개 변수의 loss에 대한 미분값을 계산한다.\n",
    "        G_loss.backward()\n",
    "        # 최적화 기법을 이용해 생성자의 매개 변수를 업데이트한다.\n",
    "        G_optimizer.step()\n",
    "\n",
    "        if leave_log:\n",
    "            G_losses.append(G_loss.data[0])\n",
    "    if leave_log:\n",
    "        true_positive_rate = (D_result_from_real > 0.5).float().mean().data[0]\n",
    "        true_negative_rate = (D_result_from_fake < 0.5).float().mean().data[0]\n",
    "        base_message = (\"Epoch: {epoch:<3d} D Loss: {d_loss:<8.6} G Loss: {g_loss:<8.6} \"\n",
    "                        \"True Positive Rate: {tpr:<5.1%} True Negative Rate: {tnr:<5.1%}\"\n",
    "                       )\n",
    "        message = base_message.format(\n",
    "                    epoch=epoch,\n",
    "                    d_loss=sum(D_losses)/len(D_losses),\n",
    "                    g_loss=sum(G_losses)/len(G_losses),\n",
    "                    tpr=true_positive_rate,\n",
    "                    tnr=true_negative_rate\n",
    "        )\n",
    "        print(message)\n",
    "\n",
    "    if leave_log:\n",
    "        fake_data_fixed = G(z_fixed)\n",
    "        image_path = result_dir + '/epoch{}.png'.format(epoch)\n",
    "        square_plot(fake_data_fixed.view(25, 28, 28).cpu().data.numpy(), path=image_path)\n",
    "        generated_images.append(image_path)\n",
    "\n",
    "    if leave_log:\n",
    "        train_hist['D_losses'].append(torch.mean(torch.FloatTensor(D_losses)))\n",
    "        train_hist['G_losses'].append(torch.mean(torch.FloatTensor(G_losses)))\n",
    "\n",
    "torch.save(G.state_dict(), \"gan_generator.pkl\")\n",
    "torch.save(D.state_dict(), \"gan_discriminator.pkl\")\n",
    "with open('gan_train_history.pkl', 'wb') as f:\n",
    "    pickle.dump(train_hist, f)\n",
    "\n",
    "generated_image_array = [imageio.imread(generated_image) for generated_image in generated_images]\n",
    "imageio.mimsave(result_dir + '/GAN_generation.gif', generated_image_array, fps=5)"
   ]
  }
 ],
 "metadata": {
  "kernelspec": {
   "display_name": "torch",
   "language": "python",
   "name": "torch"
  },
  "language_info": {
   "codemirror_mode": {
    "name": "ipython",
    "version": 3
   },
   "file_extension": ".py",
   "mimetype": "text/x-python",
   "name": "python",
   "nbconvert_exporter": "python",
   "pygments_lexer": "ipython3",
   "version": "3.8.5"
  }
 },
 "nbformat": 4,
 "nbformat_minor": 4
}
