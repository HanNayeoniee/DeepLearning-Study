{
  "nbformat": 4,
  "nbformat_minor": 0,
  "metadata": {
    "colab": {
      "name": "ch3_regression.ipynb",
      "provenance": [],
      "collapsed_sections": [],
      "authorship_tag": "ABX9TyPyoFGuwiiVmv1ZpEebVRU1",
      "include_colab_link": true
    },
    "kernelspec": {
      "name": "python3",
      "display_name": "Python 3"
    }
  },
  "cells": [
    {
      "cell_type": "markdown",
      "metadata": {
        "id": "view-in-github",
        "colab_type": "text"
      },
      "source": [
        "<a href=\"https://colab.research.google.com/github/HanNayeoniee/DeepLearning-Study/blob/master/ch3_regression.ipynb\" target=\"_parent\"><img src=\"https://colab.research.google.com/assets/colab-badge.svg\" alt=\"Open In Colab\"/></a>"
      ]
    },
    {
      "cell_type": "code",
      "metadata": {
        "id": "vwy4G9-srWel",
        "colab_type": "code",
        "colab": {
          "base_uri": "https://localhost:8080/",
          "height": 34
        },
        "outputId": "9550cf86-781b-42f2-f82e-bcdc6ef0e2ed"
      },
      "source": [
        "# 데이터 가져오기\n",
        "\n",
        "import matplotlib.pyplot as plt\n",
        "import numpy as np\n",
        "from sklearn.datasets import load_diabetes\n",
        "diabetes = load_diabetes()\n",
        "\n",
        "print(diabetes.data.shape, diabetes.target.shape)"
      ],
      "execution_count": 13,
      "outputs": [
        {
          "output_type": "stream",
          "text": [
            "(442, 10) (442,)\n"
          ],
          "name": "stdout"
        }
      ]
    },
    {
      "cell_type": "code",
      "metadata": {
        "id": "U0G3Is25rbef",
        "colab_type": "code",
        "colab": {
          "base_uri": "https://localhost:8080/",
          "height": 119
        },
        "outputId": "a51e7d69-561f-49f7-b439-b2222ed57817"
      },
      "source": [
        "diabetes.data[0:3]"
      ],
      "execution_count": 12,
      "outputs": [
        {
          "output_type": "execute_result",
          "data": {
            "text/plain": [
              "array([[ 0.03807591,  0.05068012,  0.06169621,  0.02187235, -0.0442235 ,\n",
              "        -0.03482076, -0.04340085, -0.00259226,  0.01990842, -0.01764613],\n",
              "       [-0.00188202, -0.04464164, -0.05147406, -0.02632783, -0.00844872,\n",
              "        -0.01916334,  0.07441156, -0.03949338, -0.06832974, -0.09220405],\n",
              "       [ 0.08529891,  0.05068012,  0.04445121, -0.00567061, -0.04559945,\n",
              "        -0.03419447, -0.03235593, -0.00259226,  0.00286377, -0.02593034]])"
            ]
          },
          "metadata": {
            "tags": []
          },
          "execution_count": 12
        }
      ]
    },
    {
      "cell_type": "code",
      "metadata": {
        "id": "luuffwOHrbhR",
        "colab_type": "code",
        "colab": {
          "base_uri": "https://localhost:8080/",
          "height": 279
        },
        "outputId": "26cc637b-d52c-4c06-ba41-75258efd437f"
      },
      "source": [
        "plt.scatter(diabetes.data[:, 2], diabetes.target)\n",
        "plt.xlabel('x')\n",
        "plt.xlabel('y')\n",
        "plt.show()"
      ],
      "execution_count": 14,
      "outputs": [
        {
          "output_type": "display_data",
          "data": {
            "image/png": "[encoded data removed]",
            "text/plain": [
              "<Figure size 432x288 with 1 Axes>"
            ]
          },
          "metadata": {
            "tags": [],
            "needs_background": "light"
          }
        }
      ]
    },
    {
      "cell_type": "code",
      "metadata": {
        "id": "meEsxEd-rbjm",
        "colab_type": "code",
        "colab": {}
      },
      "source": [
        "x = diabetes.data[:, 2]\n",
        "y = diabetes.target"
      ],
      "execution_count": 16,
      "outputs": []
    },
    {
      "cell_type": "code",
      "metadata": {
        "id": "yVmgUoYVrbok",
        "colab_type": "code",
        "colab": {
          "base_uri": "https://localhost:8080/",
          "height": 51
        },
        "outputId": "35526afb-5250-47fc-867d-af1bf73f5b23"
      },
      "source": [
        "x_sample = x[99:109]\n",
        "print(x_sample, x_sample.shape)"
      ],
      "execution_count": 17,
      "outputs": [
        {
          "output_type": "stream",
          "text": [
            "[-0.06440781  0.01750591 -0.04500719  0.02828403  0.04121778  0.06492964\n",
            " -0.03207344 -0.07626374  0.04984027  0.04552903] (10,)\n"
          ],
          "name": "stdout"
        }
      ]
    },
    {
      "cell_type": "markdown",
      "metadata": {
        "id": "yjfbQpi0rW78",
        "colab_type": "text"
      },
      "source": [
        "pg.69"
      ]
    },
    {
      "cell_type": "code",
      "metadata": {
        "id": "W5kpCQWClPtH",
        "colab_type": "code",
        "colab": {}
      },
      "source": [
        "def __init___(self):\n",
        "  self.w = 1.0\n",
        "  self.b = 1.0\n",
        "\n",
        "def forpass(self, x):\n",
        "  y_hat = x * self.w + self.b\n",
        "  return y_hat\n",
        "\n",
        "def backprop(slef, x, err):\n",
        "  w_grad = self.w * err\n",
        "  b_grad = self.b * err\n",
        "  return w_grad, b_grad\n",
        "\n",
        "def fit(self, x, y, epochs=100):\n",
        "  for i in range(epochs):\n",
        "    for x_i, y_i in zip(x, y):\n",
        "      y_hat = self.forpass(x_i)\n",
        "      err = -(y_i - y_hat)\n",
        "      w_grad, b_grad = self.backprop(x_i, err)\n",
        "      self.w -= w_grad\n",
        "      self.b -= b_grad"
      ],
      "execution_count": 1,
      "outputs": []
    },
    {
      "cell_type": "code",
      "metadata": {
        "id": "tRaZO8I4s1x3",
        "colab_type": "code",
        "colab": {}
      },
      "source": [
        "class Neuron:\n",
        "    \n",
        "    def __init__(self):\n",
        "        self.w = 1.0     # 가중치를 초기화합니다\n",
        "        self.b = 1.0     # 절편을 초기화합니다\n",
        "    \n",
        "    def forpass(self, x):\n",
        "        y_hat = x * self.w + self.b       # 직선 방정식을 계산합니다\n",
        "        return y_hat\n",
        "    \n",
        "    def backprop(self, x, err):\n",
        "        w_grad = x * err    # 가중치에 대한 그래디언트를 계산합니다\n",
        "        b_grad = 1 * err    # 절편에 대한 그래디언트를 계산합니다\n",
        "        return w_grad, b_grad\n",
        "\n",
        "    def fit(self, x, y, epochs=100):\n",
        "        for i in range(epochs):           # 에포크만큼 반복합니다\n",
        "            for x_i, y_i in zip(x, y):    # 모든 샘플에 대해 반복합니다\n",
        "                y_hat = self.forpass(x_i) # 정방향 계산\n",
        "                err = -(y_i - y_hat)      # 오차 계산\n",
        "                w_grad, b_grad = self.backprop(x_i, err)  # 역방향 계산\n",
        "                self.w -= w_grad          # 가중치 업데이트\n",
        "                self.b -= b_grad          # 절편 업데이트"
      ],
      "execution_count": 24,
      "outputs": []
    },
    {
      "cell_type": "code",
      "metadata": {
        "id": "qCbyngDYq7kS",
        "colab_type": "code",
        "colab": {}
      },
      "source": [
        "neuron = Neuron()\n",
        "neuron.fit(x, y)"
      ],
      "execution_count": 25,
      "outputs": []
    },
    {
      "cell_type": "code",
      "metadata": {
        "id": "fiKv75IarATM",
        "colab_type": "code",
        "colab": {
          "base_uri": "https://localhost:8080/",
          "height": 279
        },
        "outputId": "3defcaf6-cc66-4a91-858a-76c3c1069b9d"
      },
      "source": [
        "plt.scatter(x, y)\n",
        "pt1 = (-0.1, -0.1 * neuron.w + neuron.b)\n",
        "pt2 = (0.15, 0.15 * neuron.w + neuron.b)\n",
        "plt.plot([pt1[0], pt2[0]], [pt1[1], pt2[1]])\n",
        "plt.xlabel('x')\n",
        "plt.ylabel('y')\n",
        "plt.show()"
      ],
      "execution_count": 26,
      "outputs": [
        {
          "output_type": "display_data",
          "data": {
            "image/png": "[encoded data removed]",
            "text/plain": [
              "<Figure size 432x288 with 1 Axes>"
            ]
          },
          "metadata": {
            "tags": [],
            "needs_background": "light"
          }
        }
      ]
    },
    {
      "cell_type": "code",
      "metadata": {
        "id": "Ax8rnBjrs6Fh",
        "colab_type": "code",
        "colab": {}
      },
      "source": [
        ""
      ],
      "execution_count": null,
      "outputs": []
    }
  ]
}