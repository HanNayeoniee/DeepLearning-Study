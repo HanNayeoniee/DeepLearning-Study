{
 "cells": [
  {
   "cell_type": "markdown",
   "metadata": {},
   "source": [
    "# MNIST 데이터에 LeNet-5모델을 적용해 숫자 예측하기"
   ]
  },
  {
   "cell_type": "code",
   "execution_count": 35,
   "metadata": {},
   "outputs": [],
   "source": [
    "import tensorflow as tf\n",
    "import numpy as np\n",
    "import pandas as pd\n",
    "import matplotlib.pyplot as plt\n",
    "%matplotlib inline\n",
    "\n",
    "from sklearn.model_selection import train_test_split\n",
    "\n",
    "from keras.utils.np_utils import to_categorical\n",
    "from keras.models import Sequential\n",
    "from keras.layers import Dense, Dropout, Flatten, Conv2D, MaxPool2D\n",
    "from keras.optimizers import RMSprop\n",
    "from keras.preprocessing.image import ImageDataGenerator\n",
    "from keras.callbacks import ReduceLROnPlateau"
   ]
  },
  {
   "cell_type": "markdown",
   "metadata": {},
   "source": [
    "# 1. MNIST 데이터셋 임포트"
   ]
  },
  {
   "cell_type": "code",
   "execution_count": 36,
   "metadata": {},
   "outputs": [],
   "source": [
    "mnist=tf.keras.datasets.mnist\n",
    "(x_train, y_train), (x_test, y_test)=mnist.load_data()"
   ]
  },
  {
   "cell_type": "code",
   "execution_count": 37,
   "metadata": {},
   "outputs": [
    {
     "name": "stdout",
     "output_type": "stream",
     "text": [
      "(60000, 28, 28)\n",
      "(60000,)\n",
      "\n",
      "\n",
      "(10000, 28, 28)\n",
      "(10000,)\n"
     ]
    }
   ],
   "source": [
    "print(x_train.shape)  # 28*28크기의 이미지가 6만개\n",
    "print(y_train.shape)\n",
    "print(\"\\n\")\n",
    "print(x_test.shape)  # 28*28크기의 이미지가 만개\n",
    "print(y_test.shape)"
   ]
  },
  {
   "cell_type": "code",
   "execution_count": 38,
   "metadata": {},
   "outputs": [
    {
     "data": {
      "text/plain": [
       "<matplotlib.image.AxesImage at 0x1e69d051ec8>"
      ]
     },
     "execution_count": 38,
     "metadata": {},
     "output_type": "execute_result"
    },
    {
     "data": {
      "image/png": "[encoded data removed]",
      "text/plain": [
       "<Figure size 432x288 with 1 Axes>"
      ]
     },
     "metadata": {
      "needs_background": "light"
     },
     "output_type": "display_data"
    }
   ],
   "source": [
    "plt.imshow(x_train[0], cmap='Greys')"
   ]
  },
  {
   "cell_type": "code",
   "execution_count": 39,
   "metadata": {},
   "outputs": [
    {
     "name": "stdout",
     "output_type": "stream",
     "text": [
      "7\n"
     ]
    }
   ],
   "source": [
    "print(y_test[0])"
   ]
  },
  {
   "cell_type": "markdown",
   "metadata": {},
   "source": [
    "# 2. 데이터 전처리"
   ]
  },
  {
   "cell_type": "code",
   "execution_count": 40,
   "metadata": {},
   "outputs": [],
   "source": [
    "# 0-255 사이의 픽셀값을 0-1사이로 정규화\n",
    "# CNN은 0-255 보다 0-1에서 연산이 빠름\n",
    "\n",
    "x_train, x_test=x_train/255.0, x_test/255.0"
   ]
  },
  {
   "cell_type": "code",
   "execution_count": 41,
   "metadata": {},
   "outputs": [],
   "source": [
    "# 이미지를 3차원으로 reshape (height=28, width=28, channel=1)\n",
    "# 흑백이미지는 채널=1\n",
    "\n",
    "x_train=x_train.reshape(-1, 28, 28, 1)\n",
    "x_test=x_test.reshape(-1, 28, 28, 1)"
   ]
  },
  {
   "cell_type": "code",
   "execution_count": 42,
   "metadata": {},
   "outputs": [],
   "source": [
    "# label encoding\n",
    "# y 라벨을 원핫 인코딩 형식으로 변환\n",
    "\n",
    "y_train=to_categorical(y_train, num_classes=10)\n",
    "y_test=to_categorical(y_test, num_classes=10)"
   ]
  },
  {
   "cell_type": "code",
   "execution_count": 43,
   "metadata": {},
   "outputs": [],
   "source": [
    "# train, val set split\n",
    "\n",
    "random_seed=2\n",
    "x_train, x_val, y_train, y_val=train_test_split(x_train, y_train, \n",
    "                                                test_size=0.1,\n",
    "                                                random_state=random_seed)\n"
   ]
  },
  {
   "cell_type": "markdown",
   "metadata": {},
   "source": [
    "# 3. CNN model 만들기"
   ]
  },
  {
   "cell_type": "code",
   "execution_count": 44,
   "metadata": {},
   "outputs": [],
   "source": [
    "# In-> [Conv2D->relu->MaxPool2D]*2-> Flatten-> Dense-> relu-> Dense-> softmax-> Out\n",
    "\n",
    "model=Sequential()\n",
    "model.add(Conv2D(filters=20, kernel_size=(5,5), padding=\"same\", input_shape=(28,28,1)))\n",
    "model.add(Activation(\"relu\"))\n",
    "model.add(MaxPool2D(pool_size=(2,2), strides=(2,2)))\n",
    "\n",
    "model.add(Conv2D(filters=50, kernel_size=(5,5), padding=\"same\", input_shape=(28,28,1)))\n",
    "model.add(Activation(\"relu\"))\n",
    "model.add(MaxPool2D(pool_size=(2,2), strides=(2,2)))\n",
    "\n",
    "model.add(Flatten())\n",
    "model.add(Dense(500))\n",
    "model.add(Activation(\"relu\"))\n",
    "model.add(Dense(10))\n",
    "model.add(Activation(\"softmax\"))\n"
   ]
  },
  {
   "cell_type": "markdown",
   "metadata": {},
   "source": [
    "# 4. 모델 컴파일"
   ]
  },
  {
   "cell_type": "code",
   "execution_count": 45,
   "metadata": {},
   "outputs": [],
   "source": [
    "optimizer=RMSprop(lr=0.001, rho=0.9, epsilon=1e-08, decay=0.0)\n",
    "model.compile(optimizer=optimizer,\n",
    "              loss=\"categorical_crossentropy\",\n",
    "              metrics=[\"accuracy\"])"
   ]
  },
  {
   "cell_type": "markdown",
   "metadata": {},
   "source": [
    "# 5. 모델 훈련"
   ]
  },
  {
   "cell_type": "code",
   "execution_count": 47,
   "metadata": {},
   "outputs": [
    {
     "name": "stdout",
     "output_type": "stream",
     "text": [
      "Train on 54000 samples, validate on 6000 samples\n",
      "Epoch 1/20\n",
      "54000/54000 [==============================] - 137s 3ms/step - loss: 0.1045 - accuracy: 0.9680 - val_loss: 0.0419 - val_accuracy: 0.9875\n",
      "Epoch 2/20\n",
      "54000/54000 [==============================] - 141s 3ms/step - loss: 0.0430 - accuracy: 0.9877 - val_loss: 0.0460 - val_accuracy: 0.9868\n",
      "Epoch 3/20\n",
      "54000/54000 [==============================] - 164s 3ms/step - loss: 0.0370 - accuracy: 0.9908 - val_loss: 0.0369 - val_accuracy: 0.9895\n",
      "Epoch 4/20\n",
      "54000/54000 [==============================] - 164s 3ms/step - loss: 0.0332 - accuracy: 0.9916 - val_loss: 0.0525 - val_accuracy: 0.9883\n",
      "Epoch 5/20\n",
      "54000/54000 [==============================] - 159s 3ms/step - loss: 0.0294 - accuracy: 0.9926 - val_loss: 0.0535 - val_accuracy: 0.9905\n",
      "Epoch 6/20\n",
      "54000/54000 [==============================] - 141s 3ms/step - loss: 0.0284 - accuracy: 0.9936 - val_loss: 0.0472 - val_accuracy: 0.9898\n",
      "Epoch 7/20\n",
      "54000/54000 [==============================] - 124s 2ms/step - loss: 0.0282 - accuracy: 0.9937 - val_loss: 0.0833 - val_accuracy: 0.9878\n",
      "Epoch 8/20\n",
      "54000/54000 [==============================] - 120s 2ms/step - loss: 0.0254 - accuracy: 0.9946 - val_loss: 0.0654 - val_accuracy: 0.9860\n",
      "Epoch 9/20\n",
      "54000/54000 [==============================] - 121s 2ms/step - loss: 0.0280 - accuracy: 0.9942 - val_loss: 0.0857 - val_accuracy: 0.9900\n",
      "Epoch 10/20\n",
      "54000/54000 [==============================] - 130s 2ms/step - loss: 0.0233 - accuracy: 0.9951 - val_loss: 0.0942 - val_accuracy: 0.9860\n",
      "Epoch 11/20\n",
      "54000/54000 [==============================] - 133s 2ms/step - loss: 0.0250 - accuracy: 0.9956 - val_loss: 0.0841 - val_accuracy: 0.9892\n",
      "Epoch 12/20\n",
      "54000/54000 [==============================] - 141s 3ms/step - loss: 0.0210 - accuracy: 0.9959 - val_loss: 0.1167 - val_accuracy: 0.9907\n",
      "Epoch 13/20\n",
      "54000/54000 [==============================] - 121s 2ms/step - loss: 0.0204 - accuracy: 0.9963 - val_loss: 0.0840 - val_accuracy: 0.9883\n",
      "Epoch 14/20\n",
      "54000/54000 [==============================] - 133s 2ms/step - loss: 0.0201 - accuracy: 0.9968 - val_loss: 0.1407 - val_accuracy: 0.9902\n",
      "Epoch 15/20\n",
      "54000/54000 [==============================] - 166s 3ms/step - loss: 0.0198 - accuracy: 0.9969 - val_loss: 0.1471 - val_accuracy: 0.9895\n",
      "Epoch 16/20\n",
      "54000/54000 [==============================] - 130s 2ms/step - loss: 0.0216 - accuracy: 0.9969 - val_loss: 0.1151 - val_accuracy: 0.9913\n",
      "Epoch 17/20\n",
      "54000/54000 [==============================] - 128s 2ms/step - loss: 0.0161 - accuracy: 0.9969 - val_loss: 0.2219 - val_accuracy: 0.9877\n",
      "Epoch 18/20\n",
      "54000/54000 [==============================] - 117s 2ms/step - loss: 0.0197 - accuracy: 0.9971 - val_loss: 0.1149 - val_accuracy: 0.9890\n",
      "Epoch 19/20\n",
      "54000/54000 [==============================] - 158s 3ms/step - loss: 0.0207 - accuracy: 0.9974 - val_loss: 0.2710 - val_accuracy: 0.9887\n",
      "Epoch 20/20\n",
      "54000/54000 [==============================] - 134s 2ms/step - loss: 0.0153 - accuracy: 0.9979 - val_loss: 0.1190 - val_accuracy: 0.9902\n"
     ]
    }
   ],
   "source": [
    "history=model.fit(x_train, y_train, epochs=20, batch_size=20, verbose=1,\n",
    "                  validation_data=(x_val, y_val))"
   ]
  },
  {
   "cell_type": "code",
   "execution_count": 48,
   "metadata": {},
   "outputs": [
    {
     "name": "stdout",
     "output_type": "stream",
     "text": [
      "10000/10000 [==============================] - 3s 312us/step\n"
     ]
    }
   ],
   "source": [
    "score=model.evaluate(x_test, y_test, verbose=1)"
   ]
  },
  {
   "cell_type": "markdown",
   "metadata": {},
   "source": [
    "# 6. 최종 정확도"
   ]
  },
  {
   "cell_type": "code",
   "execution_count": 49,
   "metadata": {},
   "outputs": [
    {
     "name": "stdout",
     "output_type": "stream",
     "text": [
      "최종 정확도 : 99.12999868392944 %\n"
     ]
    }
   ],
   "source": [
    "print(\"최종 정확도 : \" + str( score[1] * 100 ) + \" %\" )"
   ]
  },
  {
   "cell_type": "code",
   "execution_count": 52,
   "metadata": {},
   "outputs": [
    {
     "data": {
      "image/png": "[encoded data removed]",
      "text/plain": [
       "<Figure size 432x288 with 1 Axes>"
      ]
     },
     "metadata": {
      "needs_background": "light"
     },
     "output_type": "display_data"
    }
   ],
   "source": [
    "plt.plot(history.history['accuracy'])\n",
    "plt.plot(history.history['val_accuracy'])\n",
    "plt.title('model accuracy')\n",
    "plt.ylabel('accuracy')\n",
    "plt.xlabel('epoch')\n",
    "plt.legend(['train', 'val'], loc='upper left')\n",
    "plt.show()"
   ]
  },
  {
   "cell_type": "code",
   "execution_count": null,
   "metadata": {},
   "outputs": [],
   "source": []
  }
 ],
 "metadata": {
  "kernelspec": {
   "display_name": "Python 3",
   "language": "python",
   "name": "python3"
  },
  "language_info": {
   "codemirror_mode": {
    "name": "ipython",
    "version": 3
   },
   "file_extension": ".py",
   "mimetype": "text/x-python",
   "name": "python",
   "nbconvert_exporter": "python",
   "pygments_lexer": "ipython3",
   "version": "3.7.6"
  }
 },
 "nbformat": 4,
 "nbformat_minor": 4
}
