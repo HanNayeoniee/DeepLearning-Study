{
 "cells": [
  {
   "cell_type": "markdown",
   "metadata": {},
   "source": [
    "## VGG-16"
   ]
  },
  {
   "cell_type": "markdown",
   "metadata": {},
   "source": [
    "<img src=\"img/vgg16_architecture.png\" width=\"500\"/>"
   ]
  },
  {
   "cell_type": "code",
   "execution_count": 38,
   "metadata": {},
   "outputs": [],
   "source": [
    "import torch\n",
    "import torch.nn as nn"
   ]
  },
  {
   "cell_type": "code",
   "execution_count": 39,
   "metadata": {},
   "outputs": [],
   "source": [
    "class ConvBlock(nn.Module):    \n",
    "    def __init__(self, in_ch, out_ch, n_iteration=1):\n",
    "        super(ConvBlock, self).__init__()\n",
    "\n",
    "        self.convs = []\n",
    "        middle_ch = in_ch\n",
    "        for i in range(n_iteration):\n",
    "            self.convs.append(nn.Conv2d(in_channels=middle_ch,\n",
    "                                        out_channels=out_ch,\n",
    "                                        kernel_size=3,\n",
    "                                        stride=1,\n",
    "                                        padding=1))\n",
    "            middle_ch = out_ch\n",
    "        self.activation = nn.ReLU()\n",
    "        self.pool = nn.MaxPool2d(kernel_size=2, stride=2)\n",
    "\n",
    "#     def forward(self, inputs):\n",
    "#         for conv in self.convs:\n",
    "#             x = conv(inputs)\n",
    "#             x = self.activation(x)\n",
    "#         return self.pool(x)\n",
    "# 위에처럼 x를 설정하면 for문 안에서 x값이 conv(inputs)로 고정되고 바뀌지 않아\n",
    "# shape이 맞지않아 에러남\n",
    "    \n",
    "    def forward(self, inputs):\n",
    "        x = inputs\n",
    "        for conv in self.convs:\n",
    "            x = conv(x)\n",
    "            x = self.activation(x)\n",
    "\n",
    "        return self.pool(x)\n"
   ]
  },
  {
   "cell_type": "code",
   "execution_count": 40,
   "metadata": {},
   "outputs": [
    {
     "name": "stdout",
     "output_type": "stream",
     "text": [
      "In_tensor shape : torch.Size([1, 3, 224, 224])\n",
      "Feature1 shape : torch.Size([1, 256, 28, 28])\n",
      "Feature2 shape : torch.Size([1, 512, 14, 14])\n",
      "Feature3 shape : torch.Size([1, 512, 7, 7])\n"
     ]
    }
   ],
   "source": [
    "# Block3, 4, 5 이후의 feature map을 따로 뽑아야 함\n",
    "class VGG16(nn.Module):\n",
    "    # __init__ 이 붙은 메소드는 생성자임\n",
    "    # 생성자는 객체가 생성되는 시점에 자동으로 호출됨\n",
    "    \n",
    "    def __init__(self):\n",
    "        super(VGG16, self).__init__()\n",
    "\n",
    "        self.Block1 = ConvBlock(3, 64, 2)\n",
    "        self.Block2 = ConvBlock(64, 128, 2)\n",
    "        self.Block3 = ConvBlock(128, 256, 3)\n",
    "        self.Block4 = ConvBlock(256, 512, 3)\n",
    "        self.Block5 = ConvBlock(512, 512, 3)\n",
    "\n",
    "    def forward(self, in_img):\n",
    "        x = self.Block1(in_img)\n",
    "        x = self.Block2(x)\n",
    "        x = self.Block3(x)\n",
    "        feature1 = x\n",
    "        x = self.Block4(x)\n",
    "        feature2 = x\n",
    "        x = self.Block5(x)\n",
    "        feature3 = x\n",
    "\n",
    "        return feature1, feature2, feature3\n",
    "\n",
    "\n",
    "def main():\n",
    "    in_tensor = torch.rand(1, 3, 224, 224)\n",
    "    print(f'In_tensor shape : {in_tensor.shape}')\n",
    "\n",
    "    backbone = VGG16()\n",
    "    features = backbone(in_tensor)\n",
    "    print(f'Feature1 shape : {features[0].shape}')\n",
    "    print(f'Feature2 shape : {features[1].shape}')\n",
    "    print(f'Feature3 shape : {features[2].shape}')\n",
    "\n",
    "if __name__ == \"__main__\":\n",
    "    main()"
   ]
  },
  {
   "cell_type": "code",
   "execution_count": null,
   "metadata": {},
   "outputs": [],
   "source": []
  }
 ],
 "metadata": {
  "kernelspec": {
   "display_name": "torch",
   "language": "python",
   "name": "torch"
  },
  "language_info": {
   "codemirror_mode": {
    "name": "ipython",
    "version": 3
   },
   "file_extension": ".py",
   "mimetype": "text/x-python",
   "name": "python",
   "nbconvert_exporter": "python",
   "pygments_lexer": "ipython3",
   "version": "3.8.5"
  }
 },
 "nbformat": 4,
 "nbformat_minor": 4
}
